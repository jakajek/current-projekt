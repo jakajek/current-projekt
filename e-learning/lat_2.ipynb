{
 "cells": [
  {
   "cell_type": "code",
   "execution_count": null,
   "id": "47ad6044-25a8-49ce-9ca8-357e650e2a03",
   "metadata": {},
   "outputs": [],
   "source": []
  },
  {
   "cell_type": "code",
   "execution_count": 1,
   "id": "9f308521-3fb1-44b0-9c25-5e11885c4c61",
   "metadata": {},
   "outputs": [],
   "source": [
    "# Contoh Struktur if...else\n",
    "x = 5\n",
    "y = 3\n",
    "# Struktur if... (tanpa else)\n",
    "if x > 3:\n",
    "\tx + y\n",
    "# Struktur if...else\n",
    "if x != 5:\n",
    "\tx + y\n",
    "else:\n",
    "\tx - y"
   ]
  },
  {
   "cell_type": "code",
   "execution_count": 3,
   "id": "d50340b6-29f5-4023-a561-a359eb222c66",
   "metadata": {},
   "outputs": [
    {
     "data": {
      "text/plain": [
       "8"
      ]
     },
     "execution_count": 3,
     "metadata": {},
     "output_type": "execute_result"
    }
   ],
   "source": []
  }
 ],
 "metadata": {
  "kernelspec": {
   "display_name": "Python 3 (ipykernel)",
   "language": "python",
   "name": "python3"
  },
  "language_info": {
   "codemirror_mode": {
    "name": "ipython",
    "version": 3
   },
   "file_extension": ".py",
   "mimetype": "text/x-python",
   "name": "python",
   "nbconvert_exporter": "python",
   "pygments_lexer": "ipython3",
   "version": "3.9.6"
  }
 },
 "nbformat": 4,
 "nbformat_minor": 5
}
