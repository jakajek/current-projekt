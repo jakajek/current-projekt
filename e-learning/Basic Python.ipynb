{
 "cells": [
  {
   "cell_type": "markdown",
   "id": "ea4dcff3-1827-4ec3-8a97-17653dc022a6",
   "metadata": {},
   "source": [
    "# Python Dasar"
   ]
  },
  {
   "cell_type": "markdown",
   "id": "732d7733-ab8b-4a76-a55f-a15035c1c78a",
   "metadata": {},
   "source": [
    "***_Sumber_*** :\n",
    "~~~\n",
    "http://sakti.github.io/python101/dasar.html\n",
    "~~~"
   ]
  },
  {
   "cell_type": "markdown",
   "id": "e7fba55c-8f92-461b-943f-287e6475f499",
   "metadata": {},
   "source": [
    "### Menggunakan Python sebagai kalkulator\n",
    "Python dapat digunakan dalam beberapa mode, diantaranya kita dapat mengeksekusi *interpreter* pada Python tanpa skrip argumen yang telah dibuat sebelumnya"
   ]
  },
  {
   "cell_type": "code",
   "execution_count": 1,
   "id": "9f308521-3fb1-44b0-9c25-5e11885c4c61",
   "metadata": {},
   "outputs": [
    {
     "data": {
      "text/plain": [
       "3"
      ]
     },
     "execution_count": 1,
     "metadata": {},
     "output_type": "execute_result"
    }
   ],
   "source": [
    "1 + 2"
   ]
  },
  {
   "cell_type": "code",
   "execution_count": 2,
   "id": "d50340b6-29f5-4023-a561-a359eb222c66",
   "metadata": {},
   "outputs": [
    {
     "data": {
      "text/plain": [
       "-25"
      ]
     },
     "execution_count": 2,
     "metadata": {},
     "output_type": "execute_result"
    }
   ],
   "source": [
    "-5 * 5"
   ]
  },
  {
   "cell_type": "code",
   "execution_count": 3,
   "id": "6eacdf5c-eb68-4b7a-81f3-713ec547a8fa",
   "metadata": {},
   "outputs": [
    {
     "data": {
      "text/plain": [
       "12.0"
      ]
     },
     "execution_count": 3,
     "metadata": {},
     "output_type": "execute_result"
    }
   ],
   "source": [
    "144 / 12"
   ]
  },
  {
   "cell_type": "code",
   "execution_count": 4,
   "id": "8d2452cb-4569-4f76-822f-1d6b850c77df",
   "metadata": {},
   "outputs": [
    {
     "data": {
      "text/plain": [
       "5"
      ]
     },
     "execution_count": 4,
     "metadata": {},
     "output_type": "execute_result"
    }
   ],
   "source": [
    "7 - 2"
   ]
  },
  {
   "cell_type": "code",
   "execution_count": 5,
   "id": "72e50088-6f49-40f8-af42-b0ef6c3ed126",
   "metadata": {},
   "outputs": [
    {
     "data": {
      "text/plain": [
       "10.0"
      ]
     },
     "execution_count": 5,
     "metadata": {},
     "output_type": "execute_result"
    }
   ],
   "source": [
    "100 ** .5"
   ]
  },
  {
   "cell_type": "markdown",
   "id": "cd3c7493-bff8-48d4-adc4-f23e3c84da97",
   "metadata": {},
   "source": [
    "### Operasi aritmatika\n",
    "Berikut table operasi aritmatika di Python"
   ]
  },
  {
   "cell_type": "code",
   "execution_count": 6,
   "id": "adde421d-e153-4248-85c5-e42f6e0d696a",
   "metadata": {},
   "outputs": [
    {
     "data": {
      "text/html": [
       "<div>\n",
       "<style scoped>\n",
       "    .dataframe tbody tr th:only-of-type {\n",
       "        vertical-align: middle;\n",
       "    }\n",
       "\n",
       "    .dataframe tbody tr th {\n",
       "        vertical-align: top;\n",
       "    }\n",
       "\n",
       "    .dataframe thead th {\n",
       "        text-align: right;\n",
       "    }\n",
       "</style>\n",
       "<table border=\"1\" class=\"dataframe\">\n",
       "  <thead>\n",
       "    <tr style=\"text-align: right;\">\n",
       "      <th></th>\n",
       "      <th>Operasi</th>\n",
       "      <th>Keterangan</th>\n",
       "    </tr>\n",
       "  </thead>\n",
       "  <tbody>\n",
       "    <tr>\n",
       "      <th>0</th>\n",
       "      <td>+</td>\n",
       "      <td>Penambahan</td>\n",
       "    </tr>\n",
       "    <tr>\n",
       "      <th>1</th>\n",
       "      <td>-</td>\n",
       "      <td>Pengurangan</td>\n",
       "    </tr>\n",
       "    <tr>\n",
       "      <th>2</th>\n",
       "      <td>*</td>\n",
       "      <td>Perkalian</td>\n",
       "    </tr>\n",
       "    <tr>\n",
       "      <th>3</th>\n",
       "      <td>**</td>\n",
       "      <td>Pangkat</td>\n",
       "    </tr>\n",
       "    <tr>\n",
       "      <th>4</th>\n",
       "      <td>/</td>\n",
       "      <td>Pembagian</td>\n",
       "    </tr>\n",
       "    <tr>\n",
       "      <th>5</th>\n",
       "      <td>//</td>\n",
       "      <td>Pembagian bulat ke bawah</td>\n",
       "    </tr>\n",
       "    <tr>\n",
       "      <th>6</th>\n",
       "      <td>%</td>\n",
       "      <td>Modulus</td>\n",
       "    </tr>\n",
       "  </tbody>\n",
       "</table>\n",
       "</div>"
      ],
      "text/plain": [
       "  Operasi                Keterangan\n",
       "0       +                Penambahan\n",
       "1       -               Pengurangan\n",
       "2       *                 Perkalian\n",
       "3      **                   Pangkat\n",
       "4       /                 Pembagian\n",
       "5      //  Pembagian bulat ke bawah\n",
       "6       %                   Modulus"
      ]
     },
     "execution_count": 6,
     "metadata": {},
     "output_type": "execute_result"
    }
   ],
   "source": [
    "import pandas as pd\n",
    "list1 = ['+', '-', '*', '**', '/', '//', '%']\n",
    "list2 = ['Penambahan', 'Pengurangan', 'Perkalian', \n",
    "         'Pangkat', 'Pembagian', 'Pembagian bulat ke bawah', \n",
    "         'Modulus']\n",
    "dict = {'Operasi': list1, 'Keterangan': list2}\n",
    "pd.DataFrame(dict)"
   ]
  },
  {
   "cell_type": "code",
   "execution_count": 7,
   "id": "5ea9e1e8-e748-4598-8682-c9e6439aa8c8",
   "metadata": {},
   "outputs": [
    {
     "data": {
      "text/plain": [
       "1.75"
      ]
     },
     "execution_count": 7,
     "metadata": {},
     "output_type": "execute_result"
    }
   ],
   "source": [
    "# Contoh\n",
    "7 / 4"
   ]
  },
  {
   "cell_type": "code",
   "execution_count": 8,
   "id": "1443c8e3-b8ec-4a45-b903-f85d07a1a471",
   "metadata": {},
   "outputs": [
    {
     "data": {
      "text/plain": [
       "1"
      ]
     },
     "execution_count": 8,
     "metadata": {},
     "output_type": "execute_result"
    }
   ],
   "source": [
    "7 // 4"
   ]
  },
  {
   "cell_type": "code",
   "execution_count": 9,
   "id": "5f4fbd0b-e505-433a-a219-b78ad0f065c4",
   "metadata": {},
   "outputs": [
    {
     "data": {
      "text/plain": [
       "3.3333333333333335"
      ]
     },
     "execution_count": 9,
     "metadata": {},
     "output_type": "execute_result"
    }
   ],
   "source": [
    "10 / 3"
   ]
  },
  {
   "cell_type": "code",
   "execution_count": 10,
   "id": "bcee6851-41e9-40d9-aeec-79b0e890db3c",
   "metadata": {},
   "outputs": [
    {
     "data": {
      "text/plain": [
       "0"
      ]
     },
     "execution_count": 10,
     "metadata": {},
     "output_type": "execute_result"
    }
   ],
   "source": [
    "10 // 31"
   ]
  },
  {
   "cell_type": "code",
   "execution_count": 11,
   "id": "428c7c59-bb4d-4d1a-906f-1f83aecaccf1",
   "metadata": {},
   "outputs": [
    {
     "data": {
      "text/plain": [
       "2"
      ]
     },
     "execution_count": 11,
     "metadata": {},
     "output_type": "execute_result"
    }
   ],
   "source": [
    "2 % 3"
   ]
  },
  {
   "cell_type": "code",
   "execution_count": 12,
   "id": "4cc49e81-2605-40bd-9359-62d4e0a2730d",
   "metadata": {},
   "outputs": [
    {
     "data": {
      "text/plain": [
       "3"
      ]
     },
     "execution_count": 12,
     "metadata": {},
     "output_type": "execute_result"
    }
   ],
   "source": [
    "-5 % 4"
   ]
  },
  {
   "cell_type": "markdown",
   "id": "22069a0f-9aaa-43f7-bb68-654b0fad7162",
   "metadata": {},
   "source": [
    "### Menggunakan Python untuk mencetak teks\n",
    "Selain dapat digunakan sebagai kalkulator, Python dapat mencetak teks"
   ]
  },
  {
   "cell_type": "code",
   "execution_count": 13,
   "id": "c6bac93d-6cda-4037-8023-91ce00644fae",
   "metadata": {},
   "outputs": [
    {
     "name": "stdout",
     "output_type": "stream",
     "text": [
      "Halo Dunia!\n"
     ]
    }
   ],
   "source": [
    "# Contoh\n",
    "print('Halo Dunia!')"
   ]
  },
  {
   "cell_type": "code",
   "execution_count": 14,
   "id": "2d8937ba-6ac5-4705-a4c9-730cb82bf452",
   "metadata": {},
   "outputs": [
    {
     "name": "stdout",
     "output_type": "stream",
     "text": [
      "Indonesia, tanah airku \n",
      " Tanah tumpah darahku \n",
      " Di sanalah aku berdiri \n",
      " Jadi pandu ibuku \n",
      "\n"
     ]
    }
   ],
   "source": [
    "print('Indonesia, tanah airku \\n Tanah tumpah darahku \\n Di sanalah aku berdiri \\n Jadi pandu ibuku \\n')"
   ]
  },
  {
   "cell_type": "markdown",
   "id": "dba6d15b-e826-42b0-8651-ce4d9e100dad",
   "metadata": {},
   "source": [
    "Operator matematika seperti `+` dan `*` dapat digunakan dalam manipulasi cetak teks"
   ]
  },
  {
   "cell_type": "code",
   "execution_count": 48,
   "id": "43a5f441-7ca3-4da1-ab0d-f85f978b338b",
   "metadata": {},
   "outputs": [
    {
     "data": {
      "text/plain": [
       "'Indonesia, tanah airku'"
      ]
     },
     "execution_count": 48,
     "metadata": {},
     "output_type": "execute_result"
    }
   ],
   "source": [
    "'Indonesia,' + ' tanah' + ' airku'"
   ]
  },
  {
   "cell_type": "code",
   "execution_count": 47,
   "id": "8d880484-96e5-48c1-a62a-e75e55df092a",
   "metadata": {},
   "outputs": [
    {
     "name": "stdout",
     "output_type": "stream",
     "text": [
      "Merdeka! Merdeka! \n"
     ]
    }
   ],
   "source": [
    "print('Merdeka! ' * 2)"
   ]
  },
  {
   "cell_type": "markdown",
   "id": "cf4bafdc-510d-4786-9df9-8b981614f6eb",
   "metadata": {},
   "source": [
    "##### Perbedaan cetak teks dengan komentar\n",
    "Komentar adalah teks apapun yang diawali dengan tanda `#` (hashtag). Komentar biasa digunakan untuk memberikan catatan kepada pembaca kode"
   ]
  },
  {
   "cell_type": "code",
   "execution_count": 15,
   "id": "deb7a691-613d-4967-af0a-f7482ab3ca1b",
   "metadata": {},
   "outputs": [
    {
     "data": {
      "text/plain": [
       "3"
      ]
     },
     "execution_count": 15,
     "metadata": {},
     "output_type": "execute_result"
    }
   ],
   "source": [
    "# contoh\n",
    "# untuk mencetak teks di baris baru gunakan '\\n'\n",
    "\n",
    "import numpy as np # numpy adalah package untuk komputasi sains\n",
    "\n",
    "10 // 3 # operator '//' digunakan untuk pembagian dengan pembulatan ke bawah\n",
    "\n",
    "# print('coba cetak teks ini')"
   ]
  },
  {
   "cell_type": "markdown",
   "id": "588b4b6b-2571-413b-8533-2d372d7167ba",
   "metadata": {},
   "source": [
    "### Konstanta, Bilangan, Boolean, dan String\n",
    "Secara umum terdapat empat tipe objek dalam Python yaitu konstanta, bilangan, boolean, dan string\n",
    "\n",
    "#### Konstanta\n",
    "Contoh konstanta yaitu bilangan seperti `7`, `3.14`, atau string seperti `'Indonesia Raya'` atau `\"Halo Dunia!\"`. Nilai konstanta dapat digunakan secara langsung contohnya seperti bilangan `7`, `3.14`,`'Indonesia Raya'` atau `\"Halo Dunia!\"` selalu merepresentasikan dirinya sendiri dan nilainya tidak dapat diubah\n",
    "\n",
    "#### Bilangan\n",
    "Secara khusus bilangan dalam Python dibagi menjadi dua tipe yaitu `integer` (bulat) dan `float` (pecahan). Contoh untuk tipe `integer` yaitu `7` sedangkan untuk tipe `float`  adalah `3.14` atau `21.7e-8`. Notasi `e` pada contoh tipe `float` mengindikasikan pangkat 10\n",
    "\n",
    "#### Boolean\n",
    "Boolean adalah objek yang memiliki nilai `True` (Benar) atau `False` (Salah). Dalam Python objek boolean dapat juga dituliskan dalam angka yaitu 1 untuk `True` dan 0 untuk `False`. Penggunaan objek boolean dapat kita lihat dalam penggunaan operator pembanding dan operator logika"
   ]
  },
  {
   "cell_type": "code",
   "execution_count": 41,
   "id": "52abc048-efef-4805-bf49-677978e27b65",
   "metadata": {},
   "outputs": [
    {
     "name": "stdout",
     "output_type": "stream",
     "text": [
      "True\n",
      "False\n",
      "True\n",
      "True\n",
      "True\n",
      "True\n"
     ]
    }
   ],
   "source": [
    "# Contoh operator pembanding\n",
    "print(4 > 2) # lebih besar '>'\n",
    "print(4 < 2) # lebih kecil '<'\n",
    "print(4 != 2) # Tidak sama dengan '!='\n",
    "print(7 >= 7) # Lebih besar sama dengan '>='\n",
    "print(7 <= 7) # Lebih kecil sama dengan '<='\n",
    "print(7 == 7) # Sama dengan '=='"
   ]
  },
  {
   "cell_type": "code",
   "execution_count": 45,
   "id": "1bb036cb-7a19-47a9-9369-aec01baeffe7",
   "metadata": {},
   "outputs": [
    {
     "name": "stdout",
     "output_type": "stream",
     "text": [
      "True\n",
      "True\n",
      "True\n"
     ]
    }
   ],
   "source": [
    "#Contoh operator logika\n",
    "print(4 > 2 and 7 >= 7)\n",
    "print(True or False)\n",
    "print(not False)"
   ]
  },
  {
   "cell_type": "markdown",
   "id": "8d2d8563-e4cf-46dc-9567-c4febf822efd",
   "metadata": {},
   "source": [
    "#### String\n",
    "String adalah suatu rangkaian karakter dalam Python yang bersifat *Immutable*, artinya setelah string dibuat maka tidak bisa diubah. String dapat dituliskan dengan berbagai cara diantaranya:  \n",
    "\n",
    "**Single Quote** "
   ]
  },
  {
   "cell_type": "code",
   "execution_count": 37,
   "id": "e0140064-04b2-4d05-b117-59db1f1a750a",
   "metadata": {},
   "outputs": [
    {
     "name": "stdout",
     "output_type": "stream",
     "text": [
      "Indonesia Raya\n"
     ]
    }
   ],
   "source": [
    "print('Indonesia Raya')"
   ]
  },
  {
   "cell_type": "markdown",
   "id": "b01307a5-61b0-4024-b167-84c54e42b0fa",
   "metadata": {},
   "source": [
    "**Double Quote**"
   ]
  },
  {
   "cell_type": "code",
   "execution_count": 39,
   "id": "52f4d437-9ddb-4a3e-8cae-cd3904bedc7b",
   "metadata": {},
   "outputs": [
    {
     "name": "stdout",
     "output_type": "stream",
     "text": [
      "Halo Dunia!\n"
     ]
    }
   ],
   "source": [
    "print(\"Halo Dunia!\")"
   ]
  },
  {
   "cell_type": "markdown",
   "id": "77a3473f-7903-4c3d-b4c4-aff1501caca8",
   "metadata": {},
   "source": [
    "**Triple Quote**"
   ]
  },
  {
   "cell_type": "code",
   "execution_count": 40,
   "id": "5bb2f8e4-5926-4ad3-bd15-0d17d9d7dba7",
   "metadata": {},
   "outputs": [
    {
     "name": "stdout",
     "output_type": "stream",
     "text": [
      "Contoh Triple Quote\n"
     ]
    }
   ],
   "source": [
    "print('''Contoh Triple Quote''')"
   ]
  },
  {
   "cell_type": "markdown",
   "id": "4c625362-84de-45af-9523-75ec3b11cce6",
   "metadata": {},
   "source": [
    "#### Format String\n",
    "Dalam Python jika ingin menambahkan string dari informasi lain dapat menggunakan format string dengan menggunakan operator `%`. Operator `%` tidak berfungsi sebagai modulus jika digunakan untuk string"
   ]
  },
  {
   "cell_type": "code",
   "execution_count": 16,
   "id": "e7e532d7-a397-43a9-bf30-8403adc83dec",
   "metadata": {},
   "outputs": [
    {
     "name": "stdout",
     "output_type": "stream",
     "text": [
      "Indonesia, tanah airku\n",
      "Tanah tumpah darahku\n"
     ]
    }
   ],
   "source": [
    "# Contoh\n",
    "print('%s tanah %s' % ('Indonesia,', 'airku'))\n",
    "print('{0} tumpah {1}'.format('Tanah', 'darahku'))"
   ]
  },
  {
   "cell_type": "markdown",
   "id": "69b8753f-8090-4299-a32d-c69e6288d08b",
   "metadata": {},
   "source": [
    "### Variabel Dalam Python\n",
    "~~~\n",
    "http://kamarpython.blogspot.com/2012/05/tipe-data-dan-variabel-pada-python.html\n",
    "http://klinikpython.wordpress.com/2012/01/03/dasar-python-semua-harus-mempunyai-nama/\n",
    "~~~\n",
    "Variabel adalah entitas yang memiliki nilai yang berbeda antar satu dengan lainnya. Dalam Python, variabel mengalokasikan memori untuk menyimpan nilainya. Tipe data dalam Python dibagi menjadi dua kelompok yaitu:  \n",
    "&nbsp;&nbsp;&nbsp;&nbsp; ***_Immutable_***: tipe data tidak bisa diubah (string dan bilangan)  \n",
    "&nbsp;&nbsp;&nbsp;&nbsp;***_Mutable_***: tipe data dapat diubah (list dan dictionary)  \n",
    "\n",
    "Deklarasi variabel terjadi secara otomatis saat diberikan sebuah nilai menggunakan tanda `=` pada suatu variabel. Penggunaan nama variabel yang sama dengan kata kunci default di interpreter Python tidak diperbolehkan, berikut adalah kata kunci default yang terdapat dalam interpreter Python"
   ]
  },
  {
   "cell_type": "code",
   "execution_count": 27,
   "id": "ea912510-fc70-4401-be22-4ba99361868a",
   "metadata": {},
   "outputs": [
    {
     "name": "stdout",
     "output_type": "stream",
     "text": [
      "-------  --------  --------  ------  -----  ------  ------\n",
      "False    None      True      and     as     assert  break\n",
      "class    continue  def       del     elif   else    except\n",
      "finally  for       from      global  if     import  in\n",
      "is       lambda    nonlocal  not     or     pass    raise\n",
      "return   try       while     with    yield\n",
      "-------  --------  --------  ------  -----  ------  ------\n"
     ]
    }
   ],
   "source": [
    "from tabulate import tabulate\n",
    "tabel =[\n",
    "    ['False', 'None', 'True', 'and', 'as', 'assert', 'break'],\n",
    "    ['class', 'continue', 'def', 'del', 'elif', 'else','except'],\n",
    "    ['finally', 'for', 'from', 'global', 'if', 'import', 'in'],\n",
    "    ['is', 'lambda', 'nonlocal', 'not', 'or', 'pass', 'raise'],\n",
    "    ['return', 'try', 'while', 'with', 'yield']\n",
    "]\n",
    "print(tabulate(tabel))"
   ]
  },
  {
   "cell_type": "markdown",
   "id": "2e9baf04-1f5d-4437-a45e-f6dca0a5340c",
   "metadata": {},
   "source": [
    "Adapun beberapa aturan lainnya untuk penamaan variabel dalam Python yaitu:  \n",
    "1. Nama variabel dapat terdiri dari kombinasi alphabet (a sampai z) dan angka (0 sampai 9)\n",
    "2. Nama variabel tidak boleh ada spasi atau simbol-simbol seperti `? ! @ # + - % ^ & * ( ) [] { } . , ; : \" ' / \\`. Tanda garis bawah ( _ ) dapat digunakan untuk mengganti spasi. Contoh: nama_panggilan.\n",
    "3. Nama antar variabel harus berbeda/unik. Misal terdapat dua variabel yang memiliki nilai berbeda, maka nama kedua variabel tersebut haruslah berbeda juga. Jika menggunakan nama variabel yang telah dideklarasikan sebelumnya maka Python akan menggunakan nilai yang terkandung di variabel terakhir, berikut contohnya"
   ]
  },
  {
   "cell_type": "code",
   "execution_count": 31,
   "id": "1241333d-1b29-4508-b1dc-f99d10443c92",
   "metadata": {},
   "outputs": [
    {
     "name": "stdout",
     "output_type": "stream",
     "text": [
      "7\n",
      "3.14\n"
     ]
    }
   ],
   "source": [
    "# contoh variabel dengan nama yang berbeda\n",
    "a = 7\n",
    "b = 3.14\n",
    "print(a)\n",
    "print(b)"
   ]
  },
  {
   "cell_type": "code",
   "execution_count": 32,
   "id": "317ba878-b551-49b7-8b04-5f964608b176",
   "metadata": {},
   "outputs": [
    {
     "name": "stdout",
     "output_type": "stream",
     "text": [
      "3.14\n",
      "3.14\n"
     ]
    }
   ],
   "source": [
    "# contoh variabel dengan nama yang sama\n",
    "a = 7\n",
    "a = 3.14\n",
    "print(a)\n",
    "print(b)"
   ]
  },
  {
   "cell_type": "markdown",
   "id": "7e2abdda-e0ea-440b-8adb-1cc439798b0f",
   "metadata": {},
   "source": [
    "4. Disarankan penamaan variabel menggunakan huruf kecil/tidak kapital\n",
    "5. Disarankan variabel dinamakan secara ringkas, bermakna dan ada hubungannya dengan nilai yang terkandung\n",
    "6. Jika nama variabel terdiri dari dua suku kata atau lebih, gabungan antar kata dibatasi dengan `_` dan huruf kapital di awalan tiap kata\n",
    "7. Penamaan variabel tidak dapat diawali oleh angka, berikut contohnya"
   ]
  },
  {
   "cell_type": "code",
   "execution_count": 3,
   "id": "dcc9aff8-e520-44ac-a7bd-e7f945d934ba",
   "metadata": {},
   "outputs": [
    {
     "ename": "SyntaxError",
     "evalue": "invalid decimal literal (Temp/ipykernel_20704/853161323.py, line 1)",
     "output_type": "error",
     "traceback": [
      "\u001b[1;36m  File \u001b[1;32m\"C:\\Users\\User\\AppData\\Local\\Temp/ipykernel_20704/853161323.py\"\u001b[1;36m, line \u001b[1;32m1\u001b[0m\n\u001b[1;33m    1_nama = 123\u001b[0m\n\u001b[1;37m     ^\u001b[0m\n\u001b[1;31mSyntaxError\u001b[0m\u001b[1;31m:\u001b[0m invalid decimal literal\n"
     ]
    }
   ],
   "source": [
    "1_nama = 123\n",
    "print(1_nama)"
   ]
  },
  {
   "cell_type": "code",
   "execution_count": 4,
   "id": "136c8241-5e97-41d1-af1d-e60ab34642eb",
   "metadata": {},
   "outputs": [
    {
     "name": "stdout",
     "output_type": "stream",
     "text": [
      "123\n"
     ]
    }
   ],
   "source": [
    "nama_1 = 123\n",
    "print(nama_1)"
   ]
  },
  {
   "cell_type": "markdown",
   "id": "cf2ee5ea-9507-4166-ab46-3ec6ee93a91a",
   "metadata": {},
   "source": [
    "### Operasi matematika dan pengisian variabel\n",
    "~~~\n",
    "http://workshop-python-101.readthedocs.org/en/latest/operator_dan_ekspresi.html\n",
    "~~~\n",
    "\n",
    "Dalam Python, untuk memberikan nilai pada suatu variabel pengguna dapat menggunakan fungsi `input()` seperti contoh berikut"
   ]
  },
  {
   "cell_type": "code",
   "execution_count": 1,
   "id": "de70649b-7760-4ac5-9aee-6369c54082b9",
   "metadata": {},
   "outputs": [
    {
     "name": "stdin",
     "output_type": "stream",
     "text": [
      "Siapa nama anda? zebar\n",
      "Tahun berapa anda lahir? 90\n"
     ]
    },
    {
     "name": "stdout",
     "output_type": "stream",
     "text": [
      "zebar\n",
      "90\n"
     ]
    }
   ],
   "source": [
    "nama = input('Siapa nama anda?')\n",
    "tahun = input('Tahun berapa anda lahir?')\n",
    "print(nama)\n",
    "print(tahun)"
   ]
  },
  {
   "cell_type": "markdown",
   "id": "36584611-cc2b-4ded-b5dd-11dc02b9ddf7",
   "metadata": {},
   "source": [
    "Variabel juga dapat diberikan nilai dalam operasi matematika"
   ]
  },
  {
   "cell_type": "code",
   "execution_count": 56,
   "id": "b5515daf-bd01-41b8-9865-840e34f4514b",
   "metadata": {},
   "outputs": [
    {
     "name": "stdout",
     "output_type": "stream",
     "text": [
      "2.4444444444444446\n"
     ]
    }
   ],
   "source": [
    "a = 1 * 3 + 18 / 3\n",
    "a = 22 / a\n",
    "print(a)"
   ]
  },
  {
   "cell_type": "markdown",
   "id": "daa45f82-d86d-4222-9d8e-46689d487f9d",
   "metadata": {},
   "source": [
    "#### Urutan evaluasi\n",
    "Dalam Python, jika terdapat operasi matematika seperti `1 * 3 + 18 / 3` yang dikerjakan terlebih dahulu adalah perkalian. Berikut adalah contohnya"
   ]
  },
  {
   "cell_type": "code",
   "execution_count": 65,
   "id": "af7716d9-b259-40b2-8347-2284fd5be24e",
   "metadata": {},
   "outputs": [
    {
     "data": {
      "text/plain": [
       "5.0"
      ]
     },
     "execution_count": 65,
     "metadata": {},
     "output_type": "execute_result"
    }
   ],
   "source": [
    "2 - 1 * 3 + 18 / 3"
   ]
  },
  {
   "cell_type": "markdown",
   "id": "74e9156d-1988-43e2-aa0c-361c7837b7ae",
   "metadata": {},
   "source": [
    "Hasil yang diharpkan dari operasi matematika diatas adalah 7. Untuk merubah urutan evaluasi tersebut kita dapat menggunakan tanda kurung sebagai berikut"
   ]
  },
  {
   "cell_type": "code",
   "execution_count": 67,
   "id": "854e1c48-11e5-431c-9337-ebd9cfffe10b",
   "metadata": {},
   "outputs": [
    {
     "data": {
      "text/plain": [
       "7.0"
      ]
     },
     "execution_count": 67,
     "metadata": {},
     "output_type": "execute_result"
    }
   ],
   "source": [
    "((2 - 1) * 3 + 18) / 3"
   ]
  },
  {
   "cell_type": "markdown",
   "id": "eda37201-bb3a-479c-bddc-f12dc12464b4",
   "metadata": {},
   "source": [
    "Operator dengan level urutan evaluasi yang sama akan dievaluasi dari kiri ke kanan. Beberapa operator pengisian nilai seperti `=` memiliki sifat asosiatif dari kanan ke kiri, berikut contohnya"
   ]
  },
  {
   "cell_type": "code",
   "execution_count": 71,
   "id": "a8f44f80-c1c7-4e75-b80d-f0f1e3049f15",
   "metadata": {},
   "outputs": [
    {
     "data": {
      "text/plain": [
       "7"
      ]
     },
     "execution_count": 71,
     "metadata": {},
     "output_type": "execute_result"
    }
   ],
   "source": [
    "# Contoh 1\n",
    "1 + 2 + 3 + 1"
   ]
  },
  {
   "cell_type": "code",
   "execution_count": 72,
   "id": "e620e125-ebea-4d94-ae62-b9572c7dfa86",
   "metadata": {},
   "outputs": [
    {
     "data": {
      "text/plain": [
       "7"
      ]
     },
     "execution_count": 72,
     "metadata": {},
     "output_type": "execute_result"
    }
   ],
   "source": [
    "# Contoh 2\n",
    "15 - 2 - 4 - 2"
   ]
  },
  {
   "cell_type": "code",
   "execution_count": 77,
   "id": "ec60e1c8-196d-4f74-8ae4-4ec511968595",
   "metadata": {},
   "outputs": [
    {
     "name": "stdout",
     "output_type": "stream",
     "text": [
      "3\n"
     ]
    }
   ],
   "source": [
    "# Contoh 3 -asosiatif-\n",
    "a = 1\n",
    "b = 2\n",
    "c = 3\n",
    "a = b = c\n",
    "print(a)"
   ]
  },
  {
   "cell_type": "markdown",
   "id": "0130a04a-b2aa-48d2-9f42-a917e02e9139",
   "metadata": {},
   "source": [
    "Untuk mengetahui tipe objek dalam suatu variabel, pengguna dapat menggunakan fungsi `type()` seperti contoh berikut"
   ]
  },
  {
   "cell_type": "code",
   "execution_count": 10,
   "id": "0abdf1aa-527a-4415-aba1-be94a02e5632",
   "metadata": {},
   "outputs": [],
   "source": [
    "a = 'Indonesia Raya'\n",
    "b = 7\n",
    "c = 3.14\n",
    "d = 22 / 7\n",
    "e = False\n",
    "f = c==d"
   ]
  },
  {
   "cell_type": "code",
   "execution_count": 11,
   "id": "65aaf3c9-26f4-4707-acaa-d32c152d65d6",
   "metadata": {},
   "outputs": [
    {
     "data": {
      "text/plain": [
       "str"
      ]
     },
     "execution_count": 11,
     "metadata": {},
     "output_type": "execute_result"
    }
   ],
   "source": [
    "type(a)"
   ]
  },
  {
   "cell_type": "code",
   "execution_count": 12,
   "id": "1865dcd4-2383-4ac9-886d-5e4e2dc591f3",
   "metadata": {},
   "outputs": [
    {
     "data": {
      "text/plain": [
       "int"
      ]
     },
     "execution_count": 12,
     "metadata": {},
     "output_type": "execute_result"
    }
   ],
   "source": [
    "type(b)"
   ]
  },
  {
   "cell_type": "code",
   "execution_count": 13,
   "id": "c7d97625-40b4-444f-b91b-aba82ebec721",
   "metadata": {},
   "outputs": [
    {
     "data": {
      "text/plain": [
       "float"
      ]
     },
     "execution_count": 13,
     "metadata": {},
     "output_type": "execute_result"
    }
   ],
   "source": [
    "type(c)"
   ]
  },
  {
   "cell_type": "code",
   "execution_count": 14,
   "id": "1c723451-7634-419c-816b-7bf07de97926",
   "metadata": {},
   "outputs": [
    {
     "data": {
      "text/plain": [
       "float"
      ]
     },
     "execution_count": 14,
     "metadata": {},
     "output_type": "execute_result"
    }
   ],
   "source": [
    "type(d)"
   ]
  },
  {
   "cell_type": "code",
   "execution_count": 15,
   "id": "4d2749f7-44f3-4ad2-965a-72d8e663d40d",
   "metadata": {},
   "outputs": [
    {
     "data": {
      "text/plain": [
       "bool"
      ]
     },
     "execution_count": 15,
     "metadata": {},
     "output_type": "execute_result"
    }
   ],
   "source": [
    "type(e)"
   ]
  },
  {
   "cell_type": "code",
   "execution_count": 16,
   "id": "7e3429e0-5bfc-4dc7-86f2-86bb59b1918f",
   "metadata": {},
   "outputs": [
    {
     "data": {
      "text/plain": [
       "bool"
      ]
     },
     "execution_count": 16,
     "metadata": {},
     "output_type": "execute_result"
    }
   ],
   "source": [
    "type(f)"
   ]
  },
  {
   "cell_type": "markdown",
   "id": "34aae9b3-32e1-47b5-b47e-f6e9f4a20645",
   "metadata": {},
   "source": [
    "### Struktur Data Python\n",
    "~~~\n",
    "http://sakti.github.io/python101/struktur_data.html\n",
    "http://www.tutorialspoint.com/python/python_lists.htm\n",
    "~~~\n",
    "\n",
    "Struktur data adalah struktur yang dapat menyimpan mengorganisasi kumpulan data. Setiap elemen dalam struktur data yang berurutan memiliki indeks dimulai dari 0, 1, 2 dan seterusnya. Dalam Python beberapa jenis struktur data yang umum digunakan diantaranya `list`, `tuple`, `dictionary`, `sequence`, `set`, `referensi`, `string`"
   ]
  },
  {
   "cell_type": "markdown",
   "id": "69af25c4-0cf8-41d0-b915-e2634e11960e",
   "metadata": {
    "tags": []
   },
   "source": [
    "#### List\n",
    "List merupakan sekumpulan data yang dituliskan dalam tanda kurung siku `[ ]` yang tiap elemennya dipisahkan dengan tanda koma `,`. Berikut adalah contoh list dalam Python"
   ]
  },
  {
   "cell_type": "code",
   "execution_count": 17,
   "id": "050d17b8-2132-4ce2-875a-5cd7866619f6",
   "metadata": {},
   "outputs": [
    {
     "name": "stdout",
     "output_type": "stream",
     "text": [
      "['Arman', 'Dian', '1985', '1983']\n",
      "[1, 2, 3, 4, 5]\n",
      "['a', 'b', 'c', 'd']\n"
     ]
    }
   ],
   "source": [
    "list_1 = ['Arman', 'Dian', 1985, 1983]\n",
    "list_2 = [1, 2, 3, 4, 5]\n",
    "list_3 = [\"a\", \"b\", \"c\", \"d\"]\n",
    "print(list_1)\n",
    "print(list_2)\n",
    "print(list_3)"
   ]
  },
  {
   "cell_type": "markdown",
   "id": "6c7b6a43-8c97-4aa7-8e1a-cde061ea49ae",
   "metadata": {},
   "source": [
    "**Mengakses Nilai Pada List**  \n",
    "Dengan memberikan nilai indeks sesuai posisi elemen yang akan diakses menggunakan kurung siku `[ ]` maka pengguna dapat mengambil nilai pada posisi tersebut seperti contoh berikut "
   ]
  },
  {
   "cell_type": "code",
   "execution_count": 37,
   "id": "13007a00-7dcc-43cb-a1af-1bcf7225c33c",
   "metadata": {},
   "outputs": [
    {
     "name": "stdout",
     "output_type": "stream",
     "text": [
      "Arman\n",
      "[2, 3]\n",
      "['a', 'b']\n",
      "[1985, 1983]\n",
      "b\n"
     ]
    }
   ],
   "source": [
    "list_1 = ['Arman', 'Dian', 1985, 1983]\n",
    "list_2 = [1, 2, 3, 4, 5]\n",
    "list_3 = [\"a\", \"b\", \"c\", \"d\"]\n",
    "print(list_1[0]) # Perlu diingat indeks pertama dalam python diawali angka 0\n",
    "print(list_2[1:3]) # Akses elemen indeks 1-3\n",
    "print(list_3[:2]) # Akses elemen sampai dengan indeks 2\n",
    "print(list_1[2:]) # Akses elemen mulai dari indeks 2\n",
    "print(list_3[-3]) # Akses elemen mulai dari indeks paling kanan"
   ]
  },
  {
   "cell_type": "markdown",
   "id": "f0945c04-50cc-4611-bb61-7c8e5f4dd095",
   "metadata": {},
   "source": [
    "**Update Nilai pada List**  \n",
    "Jika pada list terdapat elemen yang perlu diperbarui nilainya, maka pengguna dapat melakukannya dengan memberikan tanda `=` tepat sebelah tanda siku seperti contoh berikut"
   ]
  },
  {
   "cell_type": "code",
   "execution_count": 26,
   "id": "7fdbb795-95d4-42f9-bdba-62fc3ec543c0",
   "metadata": {},
   "outputs": [
    {
     "name": "stdout",
     "output_type": "stream",
     "text": [
      "['Anggi', 'Dian', 1987, 1983]\n"
     ]
    }
   ],
   "source": [
    "list_1 = ['Arman', 'Dian', 1985, 1983]\n",
    "list_1[0] = 'Anggi' # Update elemen indeks pertama\n",
    "list_1[2] = 1987 # Update elemen indeks 2\n",
    "print(list_1)"
   ]
  },
  {
   "cell_type": "markdown",
   "id": "3fcc632d-84af-4222-999f-f951b6597647",
   "metadata": {},
   "source": [
    "**Hapus Elemen pada List**  \n",
    "Untuk menghapus sebuah elemen di dalam list, pengguna dapat menggunakan pernyataan `del` atau `remove()` seperti contoh berikut"
   ]
  },
  {
   "cell_type": "code",
   "execution_count": 32,
   "id": "8fb6ca07-f5b6-480e-90a9-7608e0157a9b",
   "metadata": {},
   "outputs": [
    {
     "name": "stdout",
     "output_type": "stream",
     "text": [
      "['Arman', 1985, 1983]\n",
      "[1, 2, 3, 5]\n"
     ]
    }
   ],
   "source": [
    "list_1 = ['Arman', 'Dian', 1985, 1983]\n",
    "list_2 = [1, 2, 3, 4, 5]\n",
    "del(list_1[1]) # Hapus elemen indeks 1\n",
    "list_2.remove(4) # Hapus elemen nilai 4\n",
    "print(list_1)\n",
    "print(list_2)"
   ]
  },
  {
   "cell_type": "markdown",
   "id": "6cfa5681-8969-4fdb-a756-326b36fc6742",
   "metadata": {},
   "source": [
    "**Operasi Dasar List**\n",
    "Dalam Python, list dapat mengakomodir operator matematik seperti `*` dan `+` pada elemen objek string"
   ]
  },
  {
   "cell_type": "code",
   "execution_count": 40,
   "id": "565abcd5-6fe1-4486-998b-4b6cf8db17fc",
   "metadata": {},
   "outputs": [
    {
     "data": {
      "text/plain": [
       "'DianDianDian'"
      ]
     },
     "execution_count": 40,
     "metadata": {},
     "output_type": "execute_result"
    }
   ],
   "source": [
    "list_1 = ['Arman', 'Dian', 1985, 1983]\n",
    "list_2 = [1, 2, 3, 4, 5]\n",
    "# Contoh 1\n",
    "list_1[1] * 3"
   ]
  },
  {
   "cell_type": "code",
   "execution_count": 41,
   "id": "16e3331d-65fa-4953-b742-b96ea5005b90",
   "metadata": {},
   "outputs": [
    {
     "data": {
      "text/plain": [
       "['Arman', 'Dian', 1985, 1983, 1, 2, 3, 4, 5]"
      ]
     },
     "execution_count": 41,
     "metadata": {},
     "output_type": "execute_result"
    }
   ],
   "source": [
    "# Contoh 2\n",
    "list_1 + list_2"
   ]
  },
  {
   "cell_type": "markdown",
   "id": "96a4e3e7-e89f-4cb0-8385-916fdc07ec9a",
   "metadata": {},
   "source": [
    "**Beberapa Fungsi pada List**  \n",
    "1. `len`  \n",
    "Jumlah elemen dalam list dapat diketahui dengan menggunakan fungsi `len`"
   ]
  },
  {
   "cell_type": "code",
   "execution_count": 48,
   "id": "dba20d93-9593-44a1-b0b1-13a516a8dc47",
   "metadata": {},
   "outputs": [
    {
     "name": "stdout",
     "output_type": "stream",
     "text": [
      "Jumlah elemen di dalam List_1: 4\n",
      "Jumlah elemen di dalam List_2: 5\n"
     ]
    }
   ],
   "source": [
    "list_1 = ['Arman', 'Dian', 1985, 1983]\n",
    "list_2 = [1, 2, 3, 4, 5]\n",
    "\n",
    "print('Jumlah elemen di dalam List_1:', len(list_1))\n",
    "print('Jumlah elemen di dalam List_2:', len(list_2))"
   ]
  },
  {
   "cell_type": "markdown",
   "id": "2e9a750b-125e-4e95-912d-0b7be833bda0",
   "metadata": {},
   "source": [
    "2. `max`  \n",
    "Nilai maksimum elemen dalam list dapat diketahui dengan menggunakan fungsi `max'"
   ]
  },
  {
   "cell_type": "code",
   "execution_count": 56,
   "id": "cc31bb2e-f498-432e-bc99-39f78f3c5b2c",
   "metadata": {},
   "outputs": [
    {
     "name": "stdout",
     "output_type": "stream",
     "text": [
      "Elemen maksimum di list_2: 5\n",
      "Elemen maksimum di list_3: d\n"
     ]
    }
   ],
   "source": [
    "list_2 = [1, 2, 3, 4, 5]\n",
    "list_3 = [\"a\", \"b\", \"d\", \"c\"]\n",
    "print('Elemen maksimum di list_2:', max(list_2))\n",
    "print('Elemen maksimum di list_3:', max(list_3))"
   ]
  },
  {
   "cell_type": "markdown",
   "id": "f2494301-1944-42fc-bdd5-5ca953b3034e",
   "metadata": {},
   "source": [
    "3. `min`  \n",
    "Nilai minimum elemen dalam list dapat diketahui dengan menggunakan fungsi `min'"
   ]
  },
  {
   "cell_type": "code",
   "execution_count": 58,
   "id": "d1cf2d6e-1092-4bbb-952f-6c28fe9813f0",
   "metadata": {},
   "outputs": [
    {
     "name": "stdout",
     "output_type": "stream",
     "text": [
      "Elemen minimum di list_2: 5\n",
      "Elemen minimum di list_3: d\n"
     ]
    }
   ],
   "source": [
    "list_2 = [3, 4, 1, 2, 5]\n",
    "list_3 = [\"d\", \"b\", \"a\", \"c\"]\n",
    "print('Elemen minimum di list_2:', max(list_2))\n",
    "print('Elemen minimum di list_3:', max(list_3))"
   ]
  },
  {
   "cell_type": "markdown",
   "id": "178f9180-d6b0-417b-b043-549fee5c91af",
   "metadata": {},
   "source": [
    "4. `list`  \n",
    "Dalam Python, untuk merubah struktur data lain menjadi list pengguna dapat menggunakan fungsi `list'"
   ]
  },
  {
   "cell_type": "code",
   "execution_count": 62,
   "id": "aaad9780-0244-4fc1-921b-2a244ab6672b",
   "metadata": {},
   "outputs": [
    {
     "name": "stdout",
     "output_type": "stream",
     "text": [
      "Tipe struktur data a: <class 'tuple'>\n",
      "Tipe struktur data b: <class 'list'>\n",
      "['test', 'test', 'check', 'mic', 123]\n"
     ]
    }
   ],
   "source": [
    "a = ('test', 'test', 'check', 'mic', 123)\n",
    "b = list(a)\n",
    "print('Tipe struktur data a:', type(a))\n",
    "print('Tipe struktur data b:', type(b))\n",
    "print(b)"
   ]
  },
  {
   "cell_type": "markdown",
   "id": "a3235b9a-d34b-452f-9155-ef91b263a5b5",
   "metadata": {},
   "source": [
    "**Beberapa Metode Built-in pada List**  \n",
    "1. `append`  \n",
    "Untuk menambahkan satu objek baru pada list yang ada, pengguna dapat menggunakan metode `append`"
   ]
  },
  {
   "cell_type": "code",
   "execution_count": 66,
   "id": "f8c77b2e-865d-43d3-99c0-6b64b6af7bbe",
   "metadata": {},
   "outputs": [
    {
     "name": "stdout",
     "output_type": "stream",
     "text": [
      "Hasil update b: ['test', 'test', 'check', 'mic', 123, 'ok']\n"
     ]
    }
   ],
   "source": [
    "b = ['test', 'test', 'check', 'mic', 123]\n",
    "b.append('ok')\n",
    "print('Hasil update b:', b)"
   ]
  },
  {
   "cell_type": "markdown",
   "id": "f822efa4-c792-477a-98ef-ddfb9572af3f",
   "metadata": {},
   "source": [
    "2. `count`  \n",
    "Untuk mengetahui berapa banyak suatu objek pada list yang ada, pengguna dapat menggunakan metode `count`"
   ]
  },
  {
   "cell_type": "code",
   "execution_count": 69,
   "id": "5570e45f-5e30-4a9a-ad9d-3b32aece7d7a",
   "metadata": {},
   "outputs": [
    {
     "name": "stdout",
     "output_type": "stream",
     "text": [
      "Kata test dalam list b sebanyak: 3\n",
      "Kata check dalam list b sebanyak: 2\n"
     ]
    }
   ],
   "source": [
    "b = ['test', 'test', 'check', 'mic', 123, 'ok', 'test', 'check']\n",
    "print('Elemen test dalam list b sebanyak:', b.count('test'))\n",
    "print('Elemen check dalam list b sebanyak:', b.count('check'))"
   ]
  },
  {
   "cell_type": "markdown",
   "id": "298ac460-cc8d-42e8-9297-2a4d3ee802df",
   "metadata": {},
   "source": [
    "3. `extend`  \n",
    "Untuk menambahkan elemen yang berurutan pada list yang ada, pengguna dapat menggunakan metode `extend`"
   ]
  },
  {
   "cell_type": "code",
   "execution_count": 76,
   "id": "c7412a04-4807-4bf2-94ad-a490bc818b89",
   "metadata": {},
   "outputs": [
    {
     "name": "stdout",
     "output_type": "stream",
     "text": [
      "Hasil extend list b: ['test', 'test', 'check', 'mic', 123, 'ok', 'test', 'check', 456, 'mic', 'ok']\n"
     ]
    }
   ],
   "source": [
    "b = ['test', 'test', 'check', 'mic', 123, 'ok', 'test', 'check']\n",
    "c = [456, 'mic', 'ok']\n",
    "b.extend(c)\n",
    "print('Hasil extend list b:', b)"
   ]
  },
  {
   "cell_type": "markdown",
   "id": "1175620f-b806-4252-86dc-55bcc8cb5d84",
   "metadata": {},
   "source": [
    "4. `index`  \n",
    "Untuk mencari indeks elemen pada list yang ada, pengguna dapat menggunakan metode `index`"
   ]
  },
  {
   "cell_type": "code",
   "execution_count": 77,
   "id": "03494acd-06da-4fac-b948-b8954f4c3189",
   "metadata": {},
   "outputs": [
    {
     "name": "stdout",
     "output_type": "stream",
     "text": [
      "Indeks untuk elemen mic: 3\n",
      "Indeks untuk elemen 123: 4\n"
     ]
    }
   ],
   "source": [
    "b = ['test', 'test', 'check', 'mic', 123, 'ok', 'test', 'check']\n",
    "print('Indeks untuk elemen mic:', b.index('mic'))\n",
    "print('Indeks untuk elemen 123:', b.index(123))"
   ]
  },
  {
   "cell_type": "markdown",
   "id": "ed7ce23d-e51e-4036-9665-7bd458943b49",
   "metadata": {
    "tags": []
   },
   "source": [
    "5. `insert`  \n",
    "Untuk menyisipkan satu elemen baru pada indeks tertentu pada list yang ada, pengguna dapat menggunakan metode `insert`"
   ]
  },
  {
   "cell_type": "code",
   "execution_count": 78,
   "id": "cfe63cc3-ddff-4786-8180-9b1b2a249e8a",
   "metadata": {},
   "outputs": [
    {
     "name": "stdout",
     "output_type": "stream",
     "text": [
      "List b dengan sisipan elemen 456 di indeks 6: ['test', 'test', 'check', 'mic', 123, 'ok', 456, 'test', 'check']\n"
     ]
    }
   ],
   "source": [
    "b = ['test', 'test', 'check', 'mic', 123, 'ok', 'test', 'check']\n",
    "b.insert(6, 456)\n",
    "print('List b dengan sisipan elemen 456 di indeks 6:', b)"
   ]
  },
  {
   "cell_type": "markdown",
   "id": "0a7cff8b-04a7-4475-9f2f-d3c7d1e4511c",
   "metadata": {},
   "source": [
    "6. `pop`  \n",
    "Untuk mengambil satu elemen dan membuang sisanya pada list yang ada, pengguna dapat menggunakan metode `pop`"
   ]
  },
  {
   "cell_type": "code",
   "execution_count": 81,
   "id": "7d526a9c-7b7b-4c02-a49c-0d84855a0263",
   "metadata": {},
   "outputs": [
    {
     "name": "stdout",
     "output_type": "stream",
     "text": [
      "List b metode pop(-1): ok\n",
      "List b metode pop(4): 123\n"
     ]
    }
   ],
   "source": [
    "b = ['test', 'test', 'check', 'mic', 123, 'ok', 'test', 'check']\n",
    "print('List b metode pop(-1):', b.pop(-3))\n",
    "print('List b metode pop(4):', b.pop(4))"
   ]
  },
  {
   "cell_type": "markdown",
   "id": "e33be4de-0043-4e81-bd66-65c1fda74c68",
   "metadata": {},
   "source": [
    "7. `reverse`  \n",
    "Untuk membalikan urutan elemen pada list yang ada, pengguna dapat menggunakan metode `reverse`"
   ]
  },
  {
   "cell_type": "code",
   "execution_count": 83,
   "id": "853c5cce-3b85-43f6-9005-007441fc39f6",
   "metadata": {},
   "outputs": [
    {
     "name": "stdout",
     "output_type": "stream",
     "text": [
      "List b metode reverse: ['check', 'test', 'ok', 123, 'mic', 'check', 'test', 'test']\n"
     ]
    }
   ],
   "source": [
    "b = ['test', 'test', 'check', 'mic', 123, 'ok', 'test', 'check']\n",
    "b.reverse()\n",
    "print('List b metode reverse:', b)"
   ]
  },
  {
   "cell_type": "markdown",
   "id": "7b3ac75b-a8ac-4e42-8689-3eddaaefce22",
   "metadata": {},
   "source": [
    "8. `sort`  \n",
    "Untuk mengurutkan elemen pada list yang ada, pengguna dapat menggunakan metode `sort`"
   ]
  },
  {
   "cell_type": "code",
   "execution_count": 85,
   "id": "ef8fd055-8922-4466-bc40-3d9ee57a8e4e",
   "metadata": {},
   "outputs": [
    {
     "name": "stdout",
     "output_type": "stream",
     "text": [
      "List b metode sort ['123', 'check', 'check', 'mic', 'ok', 'test', 'test', 'test']\n"
     ]
    }
   ],
   "source": [
    "b = ['test', 'test', 'check', 'mic', '123', 'ok', 'test', 'check']\n",
    "b.sort()\n",
    "print('List b metode sort', b)"
   ]
  }
 ],
 "metadata": {
  "kernelspec": {
   "display_name": "Python 3 (ipykernel)",
   "language": "python",
   "name": "python3"
  },
  "language_info": {
   "codemirror_mode": {
    "name": "ipython",
    "version": 3
   },
   "file_extension": ".py",
   "mimetype": "text/x-python",
   "name": "python",
   "nbconvert_exporter": "python",
   "pygments_lexer": "ipython3",
   "version": "3.9.6"
  }
 },
 "nbformat": 4,
 "nbformat_minor": 5
}
