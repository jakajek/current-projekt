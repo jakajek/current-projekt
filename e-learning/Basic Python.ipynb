{
 "cells": [
  {
   "cell_type": "markdown",
   "id": "ea4dcff3-1827-4ec3-8a97-17653dc022a6",
   "metadata": {},
   "source": [
    "# Python Dasar"
   ]
  },
  {
   "cell_type": "markdown",
   "id": "732d7733-ab8b-4a76-a55f-a15035c1c78a",
   "metadata": {},
   "source": [
    "***_Sumber_*** :\n",
    "~~~\n",
    "http://sakti.github.io/python101/dasar.html\n",
    "~~~"
   ]
  },
  {
   "cell_type": "markdown",
   "id": "e7fba55c-8f92-461b-943f-287e6475f499",
   "metadata": {},
   "source": [
    "### Menggunakan Python sebagai kalkulator\n",
    "Python dapat digunakan dalam beberapa mode, diantaranya kita dapat mengeksekusi *interpreter* pada Python tanpa skrip argumen yang telah dibuat sebelumnya"
   ]
  },
  {
   "cell_type": "code",
   "execution_count": 1,
   "id": "9f308521-3fb1-44b0-9c25-5e11885c4c61",
   "metadata": {},
   "outputs": [
    {
     "data": {
      "text/plain": [
       "3"
      ]
     },
     "execution_count": 1,
     "metadata": {},
     "output_type": "execute_result"
    }
   ],
   "source": [
    "1 + 2"
   ]
  },
  {
   "cell_type": "code",
   "execution_count": 2,
   "id": "d50340b6-29f5-4023-a561-a359eb222c66",
   "metadata": {},
   "outputs": [
    {
     "data": {
      "text/plain": [
       "-25"
      ]
     },
     "execution_count": 2,
     "metadata": {},
     "output_type": "execute_result"
    }
   ],
   "source": [
    "-5 * 5"
   ]
  },
  {
   "cell_type": "code",
   "execution_count": 3,
   "id": "6eacdf5c-eb68-4b7a-81f3-713ec547a8fa",
   "metadata": {},
   "outputs": [
    {
     "data": {
      "text/plain": [
       "12.0"
      ]
     },
     "execution_count": 3,
     "metadata": {},
     "output_type": "execute_result"
    }
   ],
   "source": [
    "144 / 12"
   ]
  },
  {
   "cell_type": "code",
   "execution_count": 4,
   "id": "8d2452cb-4569-4f76-822f-1d6b850c77df",
   "metadata": {},
   "outputs": [
    {
     "data": {
      "text/plain": [
       "5"
      ]
     },
     "execution_count": 4,
     "metadata": {},
     "output_type": "execute_result"
    }
   ],
   "source": [
    "7 - 2"
   ]
  },
  {
   "cell_type": "code",
   "execution_count": 5,
   "id": "72e50088-6f49-40f8-af42-b0ef6c3ed126",
   "metadata": {},
   "outputs": [
    {
     "data": {
      "text/plain": [
       "10.0"
      ]
     },
     "execution_count": 5,
     "metadata": {},
     "output_type": "execute_result"
    }
   ],
   "source": [
    "100 ** .5"
   ]
  },
  {
   "cell_type": "markdown",
   "id": "cd3c7493-bff8-48d4-adc4-f23e3c84da97",
   "metadata": {},
   "source": [
    "### Operasi aritmatika\n",
    "Berikut table operasi aritmatika di Python"
   ]
  },
  {
   "cell_type": "code",
   "execution_count": 6,
   "id": "adde421d-e153-4248-85c5-e42f6e0d696a",
   "metadata": {},
   "outputs": [
    {
     "data": {
      "text/html": [
       "<div>\n",
       "<style scoped>\n",
       "    .dataframe tbody tr th:only-of-type {\n",
       "        vertical-align: middle;\n",
       "    }\n",
       "\n",
       "    .dataframe tbody tr th {\n",
       "        vertical-align: top;\n",
       "    }\n",
       "\n",
       "    .dataframe thead th {\n",
       "        text-align: right;\n",
       "    }\n",
       "</style>\n",
       "<table border=\"1\" class=\"dataframe\">\n",
       "  <thead>\n",
       "    <tr style=\"text-align: right;\">\n",
       "      <th></th>\n",
       "      <th>Operasi</th>\n",
       "      <th>Keterangan</th>\n",
       "    </tr>\n",
       "  </thead>\n",
       "  <tbody>\n",
       "    <tr>\n",
       "      <th>0</th>\n",
       "      <td>+</td>\n",
       "      <td>Penambahan</td>\n",
       "    </tr>\n",
       "    <tr>\n",
       "      <th>1</th>\n",
       "      <td>-</td>\n",
       "      <td>Pengurangan</td>\n",
       "    </tr>\n",
       "    <tr>\n",
       "      <th>2</th>\n",
       "      <td>*</td>\n",
       "      <td>Perkalian</td>\n",
       "    </tr>\n",
       "    <tr>\n",
       "      <th>3</th>\n",
       "      <td>**</td>\n",
       "      <td>Pangkat</td>\n",
       "    </tr>\n",
       "    <tr>\n",
       "      <th>4</th>\n",
       "      <td>/</td>\n",
       "      <td>Pembagian</td>\n",
       "    </tr>\n",
       "    <tr>\n",
       "      <th>5</th>\n",
       "      <td>//</td>\n",
       "      <td>Pembagian bulat ke bawah</td>\n",
       "    </tr>\n",
       "    <tr>\n",
       "      <th>6</th>\n",
       "      <td>%</td>\n",
       "      <td>Modulus</td>\n",
       "    </tr>\n",
       "  </tbody>\n",
       "</table>\n",
       "</div>"
      ],
      "text/plain": [
       "  Operasi                Keterangan\n",
       "0       +                Penambahan\n",
       "1       -               Pengurangan\n",
       "2       *                 Perkalian\n",
       "3      **                   Pangkat\n",
       "4       /                 Pembagian\n",
       "5      //  Pembagian bulat ke bawah\n",
       "6       %                   Modulus"
      ]
     },
     "execution_count": 6,
     "metadata": {},
     "output_type": "execute_result"
    }
   ],
   "source": [
    "import pandas as pd\n",
    "list1 = ['+', '-', '*', '**', '/', '//', '%']\n",
    "list2 = ['Penambahan', 'Pengurangan', 'Perkalian', \n",
    "         'Pangkat', 'Pembagian', 'Pembagian bulat ke bawah', \n",
    "         'Modulus']\n",
    "dict = {'Operasi': list1, 'Keterangan': list2}\n",
    "pd.DataFrame(dict)"
   ]
  },
  {
   "cell_type": "code",
   "execution_count": 7,
   "id": "5ea9e1e8-e748-4598-8682-c9e6439aa8c8",
   "metadata": {},
   "outputs": [
    {
     "data": {
      "text/plain": [
       "1.75"
      ]
     },
     "execution_count": 7,
     "metadata": {},
     "output_type": "execute_result"
    }
   ],
   "source": [
    "# Contoh\n",
    "7 / 4"
   ]
  },
  {
   "cell_type": "code",
   "execution_count": 8,
   "id": "1443c8e3-b8ec-4a45-b903-f85d07a1a471",
   "metadata": {},
   "outputs": [
    {
     "data": {
      "text/plain": [
       "1"
      ]
     },
     "execution_count": 8,
     "metadata": {},
     "output_type": "execute_result"
    }
   ],
   "source": [
    "7 // 4"
   ]
  },
  {
   "cell_type": "code",
   "execution_count": 9,
   "id": "5f4fbd0b-e505-433a-a219-b78ad0f065c4",
   "metadata": {},
   "outputs": [
    {
     "data": {
      "text/plain": [
       "3.3333333333333335"
      ]
     },
     "execution_count": 9,
     "metadata": {},
     "output_type": "execute_result"
    }
   ],
   "source": [
    "10 / 3"
   ]
  },
  {
   "cell_type": "code",
   "execution_count": 10,
   "id": "bcee6851-41e9-40d9-aeec-79b0e890db3c",
   "metadata": {},
   "outputs": [
    {
     "data": {
      "text/plain": [
       "0"
      ]
     },
     "execution_count": 10,
     "metadata": {},
     "output_type": "execute_result"
    }
   ],
   "source": [
    "10 // 31"
   ]
  },
  {
   "cell_type": "code",
   "execution_count": 11,
   "id": "428c7c59-bb4d-4d1a-906f-1f83aecaccf1",
   "metadata": {},
   "outputs": [
    {
     "data": {
      "text/plain": [
       "2"
      ]
     },
     "execution_count": 11,
     "metadata": {},
     "output_type": "execute_result"
    }
   ],
   "source": [
    "2 % 3"
   ]
  },
  {
   "cell_type": "code",
   "execution_count": 12,
   "id": "4cc49e81-2605-40bd-9359-62d4e0a2730d",
   "metadata": {},
   "outputs": [
    {
     "data": {
      "text/plain": [
       "3"
      ]
     },
     "execution_count": 12,
     "metadata": {},
     "output_type": "execute_result"
    }
   ],
   "source": [
    "-5 % 4"
   ]
  },
  {
   "cell_type": "markdown",
   "id": "22069a0f-9aaa-43f7-bb68-654b0fad7162",
   "metadata": {},
   "source": [
    "### Menggunakan Python untuk mencetak teks\n",
    "Selain dapat digunakan sebagai kalkulator, Python dapat mencetak teks"
   ]
  },
  {
   "cell_type": "code",
   "execution_count": 13,
   "id": "c6bac93d-6cda-4037-8023-91ce00644fae",
   "metadata": {},
   "outputs": [
    {
     "name": "stdout",
     "output_type": "stream",
     "text": [
      "Halo Dunia!\n"
     ]
    }
   ],
   "source": [
    "# Contoh\n",
    "print('Halo Dunia!')"
   ]
  },
  {
   "cell_type": "code",
   "execution_count": 14,
   "id": "2d8937ba-6ac5-4705-a4c9-730cb82bf452",
   "metadata": {},
   "outputs": [
    {
     "name": "stdout",
     "output_type": "stream",
     "text": [
      "Indonesia, tanah airku \n",
      " Tanah tumpah darahku \n",
      " Di sanalah aku berdiri \n",
      " Jadi pandu ibuku \n",
      "\n"
     ]
    }
   ],
   "source": [
    "print('Indonesia, tanah airku \\n Tanah tumpah darahku \\n Di sanalah aku berdiri \\n Jadi pandu ibuku \\n')"
   ]
  },
  {
   "cell_type": "markdown",
   "id": "dba6d15b-e826-42b0-8651-ce4d9e100dad",
   "metadata": {},
   "source": [
    "Operator matematika seperti `+` dan `*` dapat digunakan dalam manipulasi cetak teks"
   ]
  },
  {
   "cell_type": "code",
   "execution_count": 48,
   "id": "43a5f441-7ca3-4da1-ab0d-f85f978b338b",
   "metadata": {},
   "outputs": [
    {
     "data": {
      "text/plain": [
       "'Indonesia, tanah airku'"
      ]
     },
     "execution_count": 48,
     "metadata": {},
     "output_type": "execute_result"
    }
   ],
   "source": [
    "'Indonesia,' + ' tanah' + ' airku'"
   ]
  },
  {
   "cell_type": "code",
   "execution_count": 47,
   "id": "8d880484-96e5-48c1-a62a-e75e55df092a",
   "metadata": {},
   "outputs": [
    {
     "name": "stdout",
     "output_type": "stream",
     "text": [
      "Merdeka! Merdeka! \n"
     ]
    }
   ],
   "source": [
    "print('Merdeka! ' * 2)"
   ]
  },
  {
   "cell_type": "markdown",
   "id": "cf4bafdc-510d-4786-9df9-8b981614f6eb",
   "metadata": {},
   "source": [
    "##### Perbedaan cetak teks dengan komentar\n",
    "Komentar adalah teks apapun yang diawali dengan tanda `#` (hashtag). Komentar biasa digunakan untuk memberikan catatan kepada pembaca kode"
   ]
  },
  {
   "cell_type": "code",
   "execution_count": 15,
   "id": "deb7a691-613d-4967-af0a-f7482ab3ca1b",
   "metadata": {},
   "outputs": [
    {
     "data": {
      "text/plain": [
       "3"
      ]
     },
     "execution_count": 15,
     "metadata": {},
     "output_type": "execute_result"
    }
   ],
   "source": [
    "# contoh\n",
    "# untuk mencetak teks di baris baru gunakan '\\n'\n",
    "\n",
    "import numpy as np # numpy adalah package untuk komputasi sains\n",
    "\n",
    "10 // 3 # operator '//' digunakan untuk pembagian dengan pembulatan ke bawah\n",
    "\n",
    "# print('coba cetak teks ini')"
   ]
  },
  {
   "cell_type": "markdown",
   "id": "588b4b6b-2571-413b-8533-2d372d7167ba",
   "metadata": {},
   "source": [
    "### Konstanta, Bilangan, Boolean, dan String\n",
    "Secara umum terdapat empat tipe objek dalam Python yaitu konstanta, bilangan, boolean, dan string\n",
    "\n",
    "#### Konstanta\n",
    "Contoh konstanta yaitu bilangan seperti `7`, `3.14`, atau string seperti `'Indonesia Raya'` atau `\"Halo Dunia!\"`. Nilai konstanta dapat digunakan secara langsung contohnya seperti bilangan `7`, `3.14`,`'Indonesia Raya'` atau `\"Halo Dunia!\"` selalu merepresentasikan dirinya sendiri dan nilainya tidak dapat diubah\n",
    "\n",
    "#### Bilangan\n",
    "Secara khusus bilangan dalam Python dibagi menjadi dua tipe yaitu `integer` (bulat) dan `float` (pecahan). Contoh untuk tipe `integer` yaitu `7` sedangkan untuk tipe `float`  adalah `3.14` atau `21.7e-8`. Notasi `e` pada contoh tipe `float` mengindikasikan pangkat 10\n",
    "\n",
    "#### Boolean\n",
    "Boolean adalah objek yang memiliki nilai `True` (Benar) atau `False` (Salah). Dalam Python objek boolean dapat juga dituliskan dalam angka yaitu 1 untuk `True` dan 0 untuk `False`. Penggunaan objek boolean dapat kita lihat dalam penggunaan operator pembanding dan operator logika"
   ]
  },
  {
   "cell_type": "code",
   "execution_count": 41,
   "id": "52abc048-efef-4805-bf49-677978e27b65",
   "metadata": {},
   "outputs": [
    {
     "name": "stdout",
     "output_type": "stream",
     "text": [
      "True\n",
      "False\n",
      "True\n",
      "True\n",
      "True\n",
      "True\n"
     ]
    }
   ],
   "source": [
    "# Contoh operator pembanding\n",
    "print(4 > 2) # lebih besar '>'\n",
    "print(4 < 2) # lebih kecil '<'\n",
    "print(4 != 2) # Tidak sama dengan '!='\n",
    "print(7 >= 7) # Lebih besar sama dengan '>='\n",
    "print(7 <= 7) # Lebih kecil sama dengan '<='\n",
    "print(7 == 7) # Sama dengan '=='"
   ]
  },
  {
   "cell_type": "code",
   "execution_count": 45,
   "id": "1bb036cb-7a19-47a9-9369-aec01baeffe7",
   "metadata": {},
   "outputs": [
    {
     "name": "stdout",
     "output_type": "stream",
     "text": [
      "True\n",
      "True\n",
      "True\n"
     ]
    }
   ],
   "source": [
    "#Contoh operator logika\n",
    "print(4 > 2 and 7 >= 7)\n",
    "print(True or False)\n",
    "print(not False)"
   ]
  },
  {
   "cell_type": "markdown",
   "id": "8d2d8563-e4cf-46dc-9567-c4febf822efd",
   "metadata": {},
   "source": [
    "#### String\n",
    "String adalah suatu rangkaian karakter dalam Python yang bersifat *Immutable*, artinya setelah string dibuat maka tidak bisa diubah. String dapat dituliskan dengan berbagai cara diantaranya:  \n",
    "\n",
    "**Single Quote** "
   ]
  },
  {
   "cell_type": "code",
   "execution_count": 37,
   "id": "e0140064-04b2-4d05-b117-59db1f1a750a",
   "metadata": {},
   "outputs": [
    {
     "name": "stdout",
     "output_type": "stream",
     "text": [
      "Indonesia Raya\n"
     ]
    }
   ],
   "source": [
    "print('Indonesia Raya')"
   ]
  },
  {
   "cell_type": "markdown",
   "id": "b01307a5-61b0-4024-b167-84c54e42b0fa",
   "metadata": {},
   "source": [
    "**Double Quote**"
   ]
  },
  {
   "cell_type": "code",
   "execution_count": 39,
   "id": "52f4d437-9ddb-4a3e-8cae-cd3904bedc7b",
   "metadata": {},
   "outputs": [
    {
     "name": "stdout",
     "output_type": "stream",
     "text": [
      "Halo Dunia!\n"
     ]
    }
   ],
   "source": [
    "print(\"Halo Dunia!\")"
   ]
  },
  {
   "cell_type": "markdown",
   "id": "77a3473f-7903-4c3d-b4c4-aff1501caca8",
   "metadata": {},
   "source": [
    "**Triple Quote**"
   ]
  },
  {
   "cell_type": "code",
   "execution_count": 40,
   "id": "5bb2f8e4-5926-4ad3-bd15-0d17d9d7dba7",
   "metadata": {},
   "outputs": [
    {
     "name": "stdout",
     "output_type": "stream",
     "text": [
      "Contoh Triple Quote\n"
     ]
    }
   ],
   "source": [
    "print('''Contoh Triple Quote''')"
   ]
  },
  {
   "cell_type": "markdown",
   "id": "4c625362-84de-45af-9523-75ec3b11cce6",
   "metadata": {},
   "source": [
    "#### Format String\n",
    "Dalam Python jika ingin menambahkan string dari informasi lain dapat menggunakan format string dengan menggunakan operator `%`. Operator `%` tidak berfungsi sebagai modulus jika digunakan untuk string"
   ]
  },
  {
   "cell_type": "code",
   "execution_count": 16,
   "id": "e7e532d7-a397-43a9-bf30-8403adc83dec",
   "metadata": {},
   "outputs": [
    {
     "name": "stdout",
     "output_type": "stream",
     "text": [
      "Indonesia, tanah airku\n",
      "Tanah tumpah darahku\n"
     ]
    }
   ],
   "source": [
    "# Contoh\n",
    "print('%s tanah %s' % ('Indonesia,', 'airku'))\n",
    "print('{0} tumpah {1}'.format('Tanah', 'darahku'))"
   ]
  },
  {
   "cell_type": "markdown",
   "id": "69b8753f-8090-4299-a32d-c69e6288d08b",
   "metadata": {},
   "source": [
    "### Variabel Dalam Python\n",
    "~~~\n",
    "http://kamarpython.blogspot.com/2012/05/tipe-data-dan-variabel-pada-python.html\n",
    "http://klinikpython.wordpress.com/2012/01/03/dasar-python-semua-harus-mempunyai-nama/\n",
    "~~~\n",
    "Variabel adalah entitas yang memiliki nilai yang berbeda antar satu dengan lainnya. Dalam Python, variabel mengalokasikan memori untuk menyimpan nilainya. Tipe data dalam Python dibagi menjadi dua kelompok yaitu:  \n",
    "&nbsp;&nbsp;&nbsp;&nbsp; ***_Immutable_***: tipe data tidak bisa diubah (string dan bilangan)  \n",
    "&nbsp;&nbsp;&nbsp;&nbsp;***_Mutable_***: tipe data dapat diubah (list dan dictionary)  \n",
    "\n",
    "Deklarasi variabel terjadi secara otomatis saat diberikan sebuah nilai menggunakan tanda `=` pada suatu variabel. Penggunaan nama variabel yang sama dengan kata kunci default di interpreter Python tidak diperbolehkan, berikut adalah kata kunci default yang terdapat dalam interpreter Python"
   ]
  },
  {
   "cell_type": "code",
   "execution_count": 27,
   "id": "ea912510-fc70-4401-be22-4ba99361868a",
   "metadata": {},
   "outputs": [
    {
     "name": "stdout",
     "output_type": "stream",
     "text": [
      "-------  --------  --------  ------  -----  ------  ------\n",
      "False    None      True      and     as     assert  break\n",
      "class    continue  def       del     elif   else    except\n",
      "finally  for       from      global  if     import  in\n",
      "is       lambda    nonlocal  not     or     pass    raise\n",
      "return   try       while     with    yield\n",
      "-------  --------  --------  ------  -----  ------  ------\n"
     ]
    }
   ],
   "source": [
    "from tabulate import tabulate\n",
    "tabel =[\n",
    "    ['False', 'None', 'True', 'and', 'as', 'assert', 'break'],\n",
    "    ['class', 'continue', 'def', 'del', 'elif', 'else','except'],\n",
    "    ['finally', 'for', 'from', 'global', 'if', 'import', 'in'],\n",
    "    ['is', 'lambda', 'nonlocal', 'not', 'or', 'pass', 'raise'],\n",
    "    ['return', 'try', 'while', 'with', 'yield']\n",
    "]\n",
    "print(tabulate(tabel))"
   ]
  },
  {
   "cell_type": "markdown",
   "id": "2e9baf04-1f5d-4437-a45e-f6dca0a5340c",
   "metadata": {},
   "source": [
    "Adapun beberapa aturan lainnya untuk penamaan variabel dalam Python yaitu:  \n",
    "1. Nama variabel dapat terdiri dari alphabet dan angka\n",
    "2. Nama variabel tidak boleh ada spasi atau simbol-simbol seperti `? ! @ # + - % ^ & * ( ) [] { } . , ; : \" ' / \\`. Tanda garis bawah ( _ ) dapat digunakan untuk mengganti spasi. Contoh: halo_dunia.\n",
    "3. Nama antar variabel harus berbeda/unik. Misal terdapat dua variabel yang memiliki nilai berbeda, maka nama kedua variabel tersebut haruslah berbeda juga. Jika menggunakan nama variabel yang telah dideklarasikan sebelumnya maka Python akan menggunakan nilai yang terkandung di variabel terakhir, berikut contohnya"
   ]
  },
  {
   "cell_type": "code",
   "execution_count": 31,
   "id": "1241333d-1b29-4508-b1dc-f99d10443c92",
   "metadata": {},
   "outputs": [
    {
     "name": "stdout",
     "output_type": "stream",
     "text": [
      "7\n",
      "3.14\n"
     ]
    }
   ],
   "source": [
    "# contoh variabel dengan nama yang berbeda\n",
    "a = 7\n",
    "b = 3.14\n",
    "print(a)\n",
    "print(b)"
   ]
  },
  {
   "cell_type": "code",
   "execution_count": 32,
   "id": "317ba878-b551-49b7-8b04-5f964608b176",
   "metadata": {},
   "outputs": [
    {
     "name": "stdout",
     "output_type": "stream",
     "text": [
      "3.14\n",
      "3.14\n"
     ]
    }
   ],
   "source": [
    "# contoh variabel dengan nama yang sama\n",
    "a = 7\n",
    "a = 3.14\n",
    "print(a)\n",
    "print(b)"
   ]
  },
  {
   "cell_type": "markdown",
   "id": "7e2abdda-e0ea-440b-8adb-1cc439798b0f",
   "metadata": {},
   "source": [
    "4. Disarankan penamaan variabel menggunakan huruf kecil/tidak kapital\n",
    "5. Disarankan variabel dinamakan secara ringkas, bermakna dan ada hubungannya dengan nilai yang terkandung\n",
    "6. Jika nama variabel terdiri dari dua suku kata atau lebih, gabungan antar kata dibatasi dengan `_` dan huruf kapital di awalan tiap kata"
   ]
  },
  {
   "cell_type": "markdown",
   "id": "cf2ee5ea-9507-4166-ab46-3ec6ee93a91a",
   "metadata": {},
   "source": [
    "### Operasi matematika dan pengisian variabel\n",
    "~~~\n",
    "http://workshop-python-101.readthedocs.org/en/latest/operator_dan_ekspresi.html\n",
    "~~~\n",
    "\n",
    "Untuk mempermudah operasi matematika, dalam Python kita dapat menyimpan hasil operasi matematika tersebut dalam variabel"
   ]
  },
  {
   "cell_type": "code",
   "execution_count": 56,
   "id": "b5515daf-bd01-41b8-9865-840e34f4514b",
   "metadata": {},
   "outputs": [
    {
     "name": "stdout",
     "output_type": "stream",
     "text": [
      "2.4444444444444446\n"
     ]
    }
   ],
   "source": [
    "a = 1 * 3 + 18 / 3\n",
    "a = 22 / a\n",
    "print(a)"
   ]
  },
  {
   "cell_type": "markdown",
   "id": "daa45f82-d86d-4222-9d8e-46689d487f9d",
   "metadata": {},
   "source": [
    "#### Urutan evaluasi\n",
    "Dalam Python, jika terdapat operasi matematika seperti `1 * 3 + 18 / 3` yang dikerjakan terlebih dahulu adalah perkalian. Berikut adalah contohnya"
   ]
  },
  {
   "cell_type": "code",
   "execution_count": 65,
   "id": "af7716d9-b259-40b2-8347-2284fd5be24e",
   "metadata": {},
   "outputs": [
    {
     "data": {
      "text/plain": [
       "5.0"
      ]
     },
     "execution_count": 65,
     "metadata": {},
     "output_type": "execute_result"
    }
   ],
   "source": [
    "2 - 1 * 3 + 18 / 3"
   ]
  },
  {
   "cell_type": "markdown",
   "id": "74e9156d-1988-43e2-aa0c-361c7837b7ae",
   "metadata": {},
   "source": [
    "Hasil yang diharpkan dari operasi matematika diatas adalah 7. Untuk merubah urutan evaluasi tersebut kita dapat menggunakan tanda kurung sebagai berikut"
   ]
  },
  {
   "cell_type": "code",
   "execution_count": 67,
   "id": "854e1c48-11e5-431c-9337-ebd9cfffe10b",
   "metadata": {},
   "outputs": [
    {
     "data": {
      "text/plain": [
       "7.0"
      ]
     },
     "execution_count": 67,
     "metadata": {},
     "output_type": "execute_result"
    }
   ],
   "source": [
    "((2 - 1) * 3 + 18) / 3"
   ]
  },
  {
   "cell_type": "markdown",
   "id": "eda37201-bb3a-479c-bddc-f12dc12464b4",
   "metadata": {},
   "source": [
    "Operator dengan level urutan evaluasi yang sama akan dievaluasi dari kiri ke kanan. Beberapa operator pengisian nilai seperti `=` memiliki sifat asosiatif dari kanan ke kiri, berikut contohnya"
   ]
  },
  {
   "cell_type": "code",
   "execution_count": 71,
   "id": "a8f44f80-c1c7-4e75-b80d-f0f1e3049f15",
   "metadata": {},
   "outputs": [
    {
     "data": {
      "text/plain": [
       "7"
      ]
     },
     "execution_count": 71,
     "metadata": {},
     "output_type": "execute_result"
    }
   ],
   "source": [
    "# Contoh 1\n",
    "1 + 2 + 3 + 1"
   ]
  },
  {
   "cell_type": "code",
   "execution_count": 72,
   "id": "e620e125-ebea-4d94-ae62-b9572c7dfa86",
   "metadata": {},
   "outputs": [
    {
     "data": {
      "text/plain": [
       "7"
      ]
     },
     "execution_count": 72,
     "metadata": {},
     "output_type": "execute_result"
    }
   ],
   "source": [
    "# Contoh 2\n",
    "15 - 2 - 4 - 2"
   ]
  },
  {
   "cell_type": "code",
   "execution_count": 77,
   "id": "ec60e1c8-196d-4f74-8ae4-4ec511968595",
   "metadata": {},
   "outputs": [
    {
     "name": "stdout",
     "output_type": "stream",
     "text": [
      "3\n"
     ]
    }
   ],
   "source": [
    "# Contoh 3 -asosiatif-\n",
    "a = 1\n",
    "b = 2\n",
    "c = 3\n",
    "a = b = c\n",
    "print(a)"
   ]
  }
 ],
 "metadata": {
  "kernelspec": {
   "display_name": "Python 3 (ipykernel)",
   "language": "python",
   "name": "python3"
  },
  "language_info": {
   "codemirror_mode": {
    "name": "ipython",
    "version": 3
   },
   "file_extension": ".py",
   "mimetype": "text/x-python",
   "name": "python",
   "nbconvert_exporter": "python",
   "pygments_lexer": "ipython3",
   "version": "3.9.6"
  }
 },
 "nbformat": 4,
 "nbformat_minor": 5
}
