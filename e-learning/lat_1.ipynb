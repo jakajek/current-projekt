{
 "cells": [
  {
   "cell_type": "markdown",
   "id": "35e19faa-951a-4b97-95f5-49fc3a9f2193",
   "metadata": {
    "tags": []
   },
   "source": [
    "# Latihan 1"
   ]
  },
  {
   "cell_type": "markdown",
   "id": "fde62bef-c783-4770-a1d2-717aa116aacd",
   "metadata": {},
   "source": [
    "### Membuat variabel baru dan operasi sederhana"
   ]
  },
  {
   "cell_type": "code",
   "execution_count": 1,
   "id": "41f07bf4-42b2-498f-b532-ce379c6f74a1",
   "metadata": {},
   "outputs": [
    {
     "name": "stdout",
     "output_type": "stream",
     "text": [
      "10\n",
      "20\n",
      "30\n"
     ]
    }
   ],
   "source": [
    "a = 10\n",
    "b = 20\n",
    "c = 30\n",
    "print(a)\n",
    "print(b)\n",
    "print(c)"
   ]
  },
  {
   "cell_type": "code",
   "execution_count": null,
   "id": "c5713120-93d6-4d76-a78c-710adcd45098",
   "metadata": {},
   "outputs": [],
   "source": [
    "print(a,b,c)"
   ]
  },
  {
   "cell_type": "code",
   "execution_count": null,
   "id": "1b3b2b71-7e3a-412e-9772-82958e55a6fd",
   "metadata": {},
   "outputs": [],
   "source": [
    "total = a + b + c\n",
    "print(total)"
   ]
  },
  {
   "cell_type": "code",
   "execution_count": null,
   "id": "4839566a-ca90-4876-bf2f-5fbbbfd911a8",
   "metadata": {},
   "outputs": [],
   "source": [
    "nama = 'Ibu'\n",
    "tempat = 'Toko swalayan'\n",
    "print(nama)\n",
    "print(tempat)"
   ]
  },
  {
   "cell_type": "code",
   "execution_count": null,
   "id": "7e08f629-9e63-4039-9bcf-c5dea731e198",
   "metadata": {},
   "outputs": [],
   "source": [
    "print('jumlah total = %s' % total)"
   ]
  },
  {
   "cell_type": "code",
   "execution_count": null,
   "id": "3619cba7-0dd1-42fe-9021-50399c112a32",
   "metadata": {},
   "outputs": [],
   "source": [
    "print('%s pergi ke %s' % (nama,tempat))"
   ]
  },
  {
   "cell_type": "code",
   "execution_count": null,
   "id": "3602813c-4048-4838-992b-78326739c594",
   "metadata": {},
   "outputs": [],
   "source": [
    "print(nama, 'belanja sebanyak', total, 'ribu rupiah di', tempat)\n",
    "print('%s belanja sebanyak %s ribu rupiah di %s' % (nama, total, tempat))"
   ]
  },
  {
   "cell_type": "code",
   "execution_count": null,
   "id": "1e8d3272-dc0a-4dbe-b0ce-4fd8a1f49a93",
   "metadata": {},
   "outputs": [],
   "source": [
    "a1=756.345 * 329.743\n",
    "a2=826.198 - 1345.239\n",
    "a3=673.473 ** .5\n",
    "print(a1,\";\",a2,a3)"
   ]
  },
  {
   "cell_type": "code",
   "execution_count": null,
   "id": "903ec48d-53a5-497e-af1d-a0d0443171bd",
   "metadata": {},
   "outputs": [],
   "source": [
    "p = input('masukan panjang: ')\n",
    "l = input('masukan lebar: ')\n",
    "luas = int(p) * int(l)\n",
    "print('maka luas persegi panjang adalah:', luas)"
   ]
  },
  {
   "cell_type": "code",
   "execution_count": null,
   "id": "0c94ac6d-f051-478f-a5f8-a7e170e52160",
   "metadata": {},
   "outputs": [],
   "source": [
    "print(3 + 2 * 3 - 10 / 5)\n",
    "print((3 + 2) * (3 - 10 / 5))"
   ]
  },
  {
   "cell_type": "code",
   "execution_count": null,
   "id": "51e2b0f9-be45-45b4-9f58-34aaedf41b58",
   "metadata": {},
   "outputs": [],
   "source": [
    "print(10 > 2) #lebih besar\n",
    "print(10 < 2) #lebih kecil\n",
    "print(10 != 2)#tidak sama dengan\n",
    "print(5 >= 5) #lebih besar sama dengan\n",
    "print(5 <= 5) #lebih kecil sama dengan\n",
    "print(5 == 5) #sama dengan\n",
    "print('test' == 'test')`"
   ]
  },
  {
   "cell_type": "markdown",
   "id": "2af6c8d6-e7fe-4e23-a2c1-136a8800425e",
   "metadata": {},
   "source": [
    "### Operasi matematika sederhana"
   ]
  },
  {
   "cell_type": "code",
   "execution_count": null,
   "id": "db023e84-4fa8-44da-a559-21038325e81a",
   "metadata": {},
   "outputs": [],
   "source": [
    "bilangan1 = 5\n",
    "bilangan2 = 3\n",
    "print('bil1 = ', bilangan1)\n",
    "print('bil2 = ', bilangan2)\n",
    "print('bil1 + bil2 = ', bilangan1 + bilangan2)\n",
    "print('bil1 - bil2 = %s' % (bilangan1 - bilangan2))\n",
    "print('bil1 * bil2 = {0}'.format(bilangan1 * bilangan2))\n",
    "print('bil1 ** bil2 = ', bilangan1 ** bilangan2)\n",
    "print('bil1 / bil2 = ', bilangan1 / bilangan2)\n",
    "print('bil1 // bil2 = ', bilangan1 // bilangan2)"
   ]
  },
  {
   "cell_type": "code",
   "execution_count": null,
   "id": "7231d4fb-16bd-4f0c-a83e-042064fb2f4c",
   "metadata": {},
   "outputs": [],
   "source": [
    "#Diketahui\n",
    "total_uang = 10000\n",
    "harga_barang = 5000\n",
    "diskon = .10\n",
    "#harga setelah diskon\n",
    "harga_barang *= (1 - diskon)\n",
    "total_uang -= harga_barang\n",
    "print('uang kembalian = Rp.{:0,.0f}'.format(total_uang)"
   ]
  },
  {
   "cell_type": "code",
   "execution_count": null,
   "id": "2ae11e7e-7e9e-4ccd-a939-a3793447c754",
   "metadata": {},
   "outputs": [],
   "source": [
    "#set variabel\n",
    "uang = input('total uang: ')\n",
    "harga = input('harga barang: ')\n",
    "diskon = input('% diskon: ')\n",
    "uang = int(uang)\n",
    "harga = int(harga)\n",
    "diskon = int(diskon)/100\n",
    "\n",
    "#operasi matematika\n",
    "harga *= (1 - diskon)\n",
    "uang -= harga\n",
    "\n",
    "print('uang kembalian = Rp.{:0,.0f}'.format(uang))"
   ]
  },
  {
   "cell_type": "code",
   "execution_count": null,
   "id": "0cc65960-a388-4dd1-b060-d7da331f0d4c",
   "metadata": {},
   "outputs": [],
   "source": [
    "#diketahui\n",
    "alas = 35\n",
    "tinggi = 73.2\n",
    "luas = .5 * alas * tinggi\n",
    "print('luas segitiga = %s' % luas,'cm')"
   ]
  },
  {
   "cell_type": "code",
   "execution_count": null,
   "id": "2f578081-67f9-49df-b4b2-4dd667e9236b",
   "metadata": {},
   "outputs": [],
   "source": [
    "#set variabel\n",
    "alas = input('alas (cm): ')\n",
    "tinggi = input('tinggi(cm): ')\n",
    "alas = int(alas)\n",
    "tinggi = int(tinggi)\n",
    "\n",
    "#operasi matematika\n",
    "luas = .5 * alas * tinggi\n",
    "print('luas segitiga = %s' % luas,'cm')"
   ]
  },
  {
   "cell_type": "code",
   "execution_count": null,
   "id": "02d9822c-49f3-4594-896e-f67c2f00a52f",
   "metadata": {},
   "outputs": [],
   "source": [
    "#Diketahui\n",
    "x = 23 #sisi atas\n",
    "y = 45 #sisi bawah\n",
    "z = 31 #tinggi\n",
    "luas_tpsm = (x + y)*z/2\n",
    "print('luas trapesium = %s' % luas_tpsm,\"cm2\")"
   ]
  },
  {
   "cell_type": "code",
   "execution_count": null,
   "id": "ee2c138a-8518-4522-9127-1824ea47b811",
   "metadata": {},
   "outputs": [],
   "source": [
    "#set variabel\n",
    "x = input('sisi atas: ')\n",
    "y = input('sisi bawah: ')\n",
    "z = input('tinggi: ')\n",
    "x = int(x)\n",
    "y = int(y)\n",
    "z = int(z)\n",
    "\n",
    "#operasi matematika\n",
    "luas_tpsm = (x + y)*z/2\n",
    "print('luas trapesium = %s' % luas_tpsm,\"cm2\")"
   ]
  },
  {
   "cell_type": "code",
   "execution_count": null,
   "id": "1d66fd87-0639-4ad8-9c0c-68fcb7417684",
   "metadata": {},
   "outputs": [],
   "source": []
  }
 ],
 "metadata": {
  "kernelspec": {
   "display_name": "Python 3 (ipykernel)",
   "language": "python",
   "name": "python3"
  },
  "language_info": {
   "codemirror_mode": {
    "name": "ipython",
    "version": 3
   },
   "file_extension": ".py",
   "mimetype": "text/x-python",
   "name": "python",
   "nbconvert_exporter": "python",
   "pygments_lexer": "ipython3",
   "version": "3.9.6"
  }
 },
 "nbformat": 4,
 "nbformat_minor": 5
}
