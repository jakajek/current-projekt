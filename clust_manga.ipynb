{
 "cells": [
  {
   "cell_type": "markdown",
   "id": "600c70a5-1162-4389-b905-c89f6825df7c",
   "metadata": {},
   "source": [
    "# Simple K-Means Clustering For 1000 Manga List"
   ]
  },
  {
   "cell_type": "code",
   "execution_count": 1,
   "id": "64dae640-f724-4277-844e-dc97eebff176",
   "metadata": {},
   "outputs": [],
   "source": [
    "import pandas as pd\n",
    "import numpy as np\n",
    "import matplotlib.pyplot as plt\n",
    "from sklearn.cluster import KMeans"
   ]
  },
  {
   "cell_type": "code",
   "execution_count": 2,
   "id": "fa8d8821-bf9a-4715-8d83-dc2540ef278e",
   "metadata": {},
   "outputs": [
    {
     "data": {
      "text/html": [
       "<div>\n",
       "<style scoped>\n",
       "    .dataframe tbody tr th:only-of-type {\n",
       "        vertical-align: middle;\n",
       "    }\n",
       "\n",
       "    .dataframe tbody tr th {\n",
       "        vertical-align: top;\n",
       "    }\n",
       "\n",
       "    .dataframe thead th {\n",
       "        text-align: right;\n",
       "    }\n",
       "</style>\n",
       "<table border=\"1\" class=\"dataframe\">\n",
       "  <thead>\n",
       "    <tr style=\"text-align: right;\">\n",
       "      <th></th>\n",
       "      <th>Title</th>\n",
       "      <th>Title_Synonym</th>\n",
       "      <th>Title_Japanese</th>\n",
       "      <th>Status</th>\n",
       "      <th>Volumns</th>\n",
       "      <th>Chapters</th>\n",
       "      <th>Publishing</th>\n",
       "      <th>Rank</th>\n",
       "      <th>Score</th>\n",
       "      <th>Scored_by</th>\n",
       "      <th>Popularity</th>\n",
       "      <th>Memebers</th>\n",
       "      <th>Favorites</th>\n",
       "      <th>Synopsis</th>\n",
       "      <th>Publish_period</th>\n",
       "      <th>Genre</th>\n",
       "    </tr>\n",
       "  </thead>\n",
       "  <tbody>\n",
       "    <tr>\n",
       "      <th>0</th>\n",
       "      <td>Berserk</td>\n",
       "      <td>Berserk</td>\n",
       "      <td>ベルセルク</td>\n",
       "      <td>Publishing</td>\n",
       "      <td>unkown</td>\n",
       "      <td>unkown</td>\n",
       "      <td>True</td>\n",
       "      <td>1</td>\n",
       "      <td>9.39</td>\n",
       "      <td>201756</td>\n",
       "      <td>2</td>\n",
       "      <td>427894</td>\n",
       "      <td>80308</td>\n",
       "      <td>Guts, a former mercenary now known as the \"Bla...</td>\n",
       "      <td>Aug  25, 1989 to present</td>\n",
       "      <td>'Action', 'Adventure', 'Demons', 'Drama', 'Fan...</td>\n",
       "    </tr>\n",
       "    <tr>\n",
       "      <th>1</th>\n",
       "      <td>JoJo no Kimyou na Bouken Part 7: Steel Ball Run</td>\n",
       "      <td>unkown</td>\n",
       "      <td>ジョジョの奇妙な冒険 Part7 STEEL BALL RUN</td>\n",
       "      <td>Finished</td>\n",
       "      <td>24</td>\n",
       "      <td>96</td>\n",
       "      <td>False</td>\n",
       "      <td>2</td>\n",
       "      <td>9.23</td>\n",
       "      <td>94427</td>\n",
       "      <td>29</td>\n",
       "      <td>160782</td>\n",
       "      <td>27459</td>\n",
       "      <td>In the American Old West, the world's greatest...</td>\n",
       "      <td>Jan  19, 2004 to Apr  19, 2011</td>\n",
       "      <td>'Action', 'Adventure', 'Mystery', 'Historical'...</td>\n",
       "    </tr>\n",
       "    <tr>\n",
       "      <th>2</th>\n",
       "      <td>One Piece</td>\n",
       "      <td>One Piece</td>\n",
       "      <td>ONE PIECE</td>\n",
       "      <td>Publishing</td>\n",
       "      <td>unkown</td>\n",
       "      <td>unkown</td>\n",
       "      <td>True</td>\n",
       "      <td>3</td>\n",
       "      <td>9.15</td>\n",
       "      <td>249936</td>\n",
       "      <td>3</td>\n",
       "      <td>410522</td>\n",
       "      <td>82310</td>\n",
       "      <td>Gol D. Roger, a man referred to as the \"Pirate...</td>\n",
       "      <td>Jul  22, 1997 to present</td>\n",
       "      <td>'Action', 'Adventure', 'Comedy', 'Fantasy', 'S...</td>\n",
       "    </tr>\n",
       "    <tr>\n",
       "      <th>3</th>\n",
       "      <td>Vagabond</td>\n",
       "      <td>Vagabond</td>\n",
       "      <td>バガボンド</td>\n",
       "      <td>On Hiatus</td>\n",
       "      <td>37</td>\n",
       "      <td>327</td>\n",
       "      <td>False</td>\n",
       "      <td>4</td>\n",
       "      <td>9.13</td>\n",
       "      <td>72613</td>\n",
       "      <td>19</td>\n",
       "      <td>211345</td>\n",
       "      <td>21596</td>\n",
       "      <td>In 16th century Japan, Shinmen Takezou is a wi...</td>\n",
       "      <td>Sep  3, 1998 to May  21, 2015</td>\n",
       "      <td>'Action', 'Adventure', 'Drama', 'Historical', ...</td>\n",
       "    </tr>\n",
       "    <tr>\n",
       "      <th>4</th>\n",
       "      <td>Monster</td>\n",
       "      <td>Monster</td>\n",
       "      <td>MONSTER</td>\n",
       "      <td>Finished</td>\n",
       "      <td>18</td>\n",
       "      <td>162</td>\n",
       "      <td>False</td>\n",
       "      <td>5</td>\n",
       "      <td>9.10</td>\n",
       "      <td>57801</td>\n",
       "      <td>33</td>\n",
       "      <td>148764</td>\n",
       "      <td>13049</td>\n",
       "      <td>Kenzou Tenma, a renowned Japanese neurosurgeon...</td>\n",
       "      <td>Dec  5, 1994 to Dec  20, 2001</td>\n",
       "      <td>'Mystery', 'Drama', 'Psychological', 'Seinen'</td>\n",
       "    </tr>\n",
       "  </tbody>\n",
       "</table>\n",
       "</div>"
      ],
      "text/plain": [
       "                                             Title Title_Synonym  \\\n",
       "0                                          Berserk       Berserk   \n",
       "1  JoJo no Kimyou na Bouken Part 7: Steel Ball Run        unkown   \n",
       "2                                        One Piece     One Piece   \n",
       "3                                         Vagabond      Vagabond   \n",
       "4                                          Monster       Monster   \n",
       "\n",
       "                    Title_Japanese      Status Volumns Chapters  Publishing  \\\n",
       "0                            ベルセルク  Publishing  unkown   unkown        True   \n",
       "1  ジョジョの奇妙な冒険 Part7 STEEL BALL RUN    Finished      24       96       False   \n",
       "2                        ONE PIECE  Publishing  unkown   unkown        True   \n",
       "3                            バガボンド   On Hiatus      37      327       False   \n",
       "4                          MONSTER    Finished      18      162       False   \n",
       "\n",
       "   Rank  Score  Scored_by  Popularity  Memebers  Favorites  \\\n",
       "0     1   9.39     201756           2    427894      80308   \n",
       "1     2   9.23      94427          29    160782      27459   \n",
       "2     3   9.15     249936           3    410522      82310   \n",
       "3     4   9.13      72613          19    211345      21596   \n",
       "4     5   9.10      57801          33    148764      13049   \n",
       "\n",
       "                                            Synopsis  \\\n",
       "0  Guts, a former mercenary now known as the \"Bla...   \n",
       "1  In the American Old West, the world's greatest...   \n",
       "2  Gol D. Roger, a man referred to as the \"Pirate...   \n",
       "3  In 16th century Japan, Shinmen Takezou is a wi...   \n",
       "4  Kenzou Tenma, a renowned Japanese neurosurgeon...   \n",
       "\n",
       "                   Publish_period  \\\n",
       "0        Aug  25, 1989 to present   \n",
       "1  Jan  19, 2004 to Apr  19, 2011   \n",
       "2        Jul  22, 1997 to present   \n",
       "3   Sep  3, 1998 to May  21, 2015   \n",
       "4   Dec  5, 1994 to Dec  20, 2001   \n",
       "\n",
       "                                               Genre  \n",
       "0  'Action', 'Adventure', 'Demons', 'Drama', 'Fan...  \n",
       "1  'Action', 'Adventure', 'Mystery', 'Historical'...  \n",
       "2  'Action', 'Adventure', 'Comedy', 'Fantasy', 'S...  \n",
       "3  'Action', 'Adventure', 'Drama', 'Historical', ...  \n",
       "4      'Mystery', 'Drama', 'Psychological', 'Seinen'  "
      ]
     },
     "execution_count": 2,
     "metadata": {},
     "output_type": "execute_result"
    }
   ],
   "source": [
    "data_manga = pd.read_csv(\"C:/Users/User/Desktop/tools/R/data/top_1000_manga.csv\", index_col = 0, parse_dates = True)\n",
    "data_manga.head()"
   ]
  },
  {
   "cell_type": "code",
   "execution_count": 3,
   "id": "445df91b-2eb5-44b2-acd0-058a3e06d190",
   "metadata": {},
   "outputs": [
    {
     "data": {
      "text/html": [
       "<div>\n",
       "<style scoped>\n",
       "    .dataframe tbody tr th:only-of-type {\n",
       "        vertical-align: middle;\n",
       "    }\n",
       "\n",
       "    .dataframe tbody tr th {\n",
       "        vertical-align: top;\n",
       "    }\n",
       "\n",
       "    .dataframe thead th {\n",
       "        text-align: right;\n",
       "    }\n",
       "</style>\n",
       "<table border=\"1\" class=\"dataframe\">\n",
       "  <thead>\n",
       "    <tr style=\"text-align: right;\">\n",
       "      <th></th>\n",
       "      <th>id</th>\n",
       "      <th>Title</th>\n",
       "      <th>Rank</th>\n",
       "      <th>Score</th>\n",
       "      <th>Scored_by</th>\n",
       "      <th>Popularity</th>\n",
       "      <th>Favorites</th>\n",
       "    </tr>\n",
       "  </thead>\n",
       "  <tbody>\n",
       "    <tr>\n",
       "      <th>0</th>\n",
       "      <td>1</td>\n",
       "      <td>Berserk</td>\n",
       "      <td>1</td>\n",
       "      <td>9.39</td>\n",
       "      <td>201756</td>\n",
       "      <td>2</td>\n",
       "      <td>80308</td>\n",
       "    </tr>\n",
       "    <tr>\n",
       "      <th>1</th>\n",
       "      <td>2</td>\n",
       "      <td>JoJo no Kimyou na Bouken Part 7: Steel Ball Run</td>\n",
       "      <td>2</td>\n",
       "      <td>9.23</td>\n",
       "      <td>94427</td>\n",
       "      <td>29</td>\n",
       "      <td>27459</td>\n",
       "    </tr>\n",
       "    <tr>\n",
       "      <th>2</th>\n",
       "      <td>3</td>\n",
       "      <td>One Piece</td>\n",
       "      <td>3</td>\n",
       "      <td>9.15</td>\n",
       "      <td>249936</td>\n",
       "      <td>3</td>\n",
       "      <td>82310</td>\n",
       "    </tr>\n",
       "    <tr>\n",
       "      <th>4</th>\n",
       "      <td>4</td>\n",
       "      <td>Monster</td>\n",
       "      <td>5</td>\n",
       "      <td>9.10</td>\n",
       "      <td>57801</td>\n",
       "      <td>33</td>\n",
       "      <td>13049</td>\n",
       "    </tr>\n",
       "    <tr>\n",
       "      <th>5</th>\n",
       "      <td>5</td>\n",
       "      <td>Fullmetal Alchemist</td>\n",
       "      <td>6</td>\n",
       "      <td>9.08</td>\n",
       "      <td>130375</td>\n",
       "      <td>16</td>\n",
       "      <td>26753</td>\n",
       "    </tr>\n",
       "  </tbody>\n",
       "</table>\n",
       "</div>"
      ],
      "text/plain": [
       "   id                                            Title  Rank  Score  \\\n",
       "0   1                                          Berserk     1   9.39   \n",
       "1   2  JoJo no Kimyou na Bouken Part 7: Steel Ball Run     2   9.23   \n",
       "2   3                                        One Piece     3   9.15   \n",
       "4   4                                          Monster     5   9.10   \n",
       "5   5                              Fullmetal Alchemist     6   9.08   \n",
       "\n",
       "   Scored_by  Popularity  Favorites  \n",
       "0     201756           2      80308  \n",
       "1      94427          29      27459  \n",
       "2     249936           3      82310  \n",
       "4      57801          33      13049  \n",
       "5     130375          16      26753  "
      ]
     },
     "execution_count": 3,
     "metadata": {},
     "output_type": "execute_result"
    }
   ],
   "source": [
    "use_col = data_manga['Status'].isin(['Publishing','Finished'])\n",
    "del_col = ['Title_Synonym', 'Title_Japanese', 'Status','Chapters', 'Volumns', 'Publishing', 'Memebers', 'Synopsis', 'Publish_period', 'Genre']\n",
    "df_manga = data_manga[use_col].drop(columns = del_col)\n",
    "df_manga.insert(0, 'id', range(1, 1 + len(df_manga)))\n",
    "df_manga.head()"
   ]
  },
  {
   "cell_type": "code",
   "execution_count": 4,
   "id": "7d52c8f4-6d5b-411e-a20e-849ad8167e8f",
   "metadata": {},
   "outputs": [
    {
     "data": {
      "image/png": "[encoded data removed]",
      "text/plain": [
       "<Figure size 432x288 with 1 Axes>"
      ]
     },
     "metadata": {
      "needs_background": "light"
     },
     "output_type": "display_data"
    }
   ],
   "source": [
    "X = (df_manga[['Scored_by', 'Favorites', 'Score']])\n",
    "wcss = []\n",
    "for i in range(1, 11):\n",
    "    kmeans = KMeans(n_clusters=i, init='k-means++', max_iter=300, n_init=10, random_state=0)\n",
    "    kmeans.fit(X)\n",
    "    wcss.append(kmeans.inertia_)\n",
    "plt.plot(range(1, 11), wcss)\n",
    "plt.title('Elbow Method')\n",
    "plt.xlabel('Number of clusters')\n",
    "plt.ylabel('WCSS')\n",
    "plt.show()"
   ]
  },
  {
   "cell_type": "code",
   "execution_count": 5,
   "id": "216c4e05-2d44-4881-8c72-73ad7f8eede9",
   "metadata": {},
   "outputs": [],
   "source": [
    "# k means\n",
    "kmeans = KMeans(n_clusters=3, random_state=0)\n",
    "df_manga['cluster'] = kmeans.fit_predict(df_manga[['Scored_by', 'Favorites']])# get centroids\n",
    "centroids = kmeans.cluster_centers_\n",
    "cen_x = [i[0] for i in centroids] \n",
    "cen_y = [i[1] for i in centroids]\n",
    "## add to df\n",
    "df_manga['cen_x'] = df_manga.cluster.map({0:cen_x[0], 1:cen_x[1], 2:cen_x[2]})\n",
    "df_manga['cen_y'] = df_manga.cluster.map({0:cen_y[0], 1:cen_y[1], 2:cen_y[2]})# define and map colors\n",
    "colors = ['#DF2020', '#81DF20', '#2095DF']\n",
    "df_manga['c'] = df_manga.cluster.map({0:colors[0], 1:colors[1], 2:colors[2]})"
   ]
  },
  {
   "cell_type": "code",
   "execution_count": 6,
   "id": "a89b9fbf-47a4-4d67-8e54-42d72dd2b43e",
   "metadata": {},
   "outputs": [
    {
     "data": {
      "text/plain": [
       "<matplotlib.collections.PathCollection at 0x195276d7e80>"
      ]
     },
     "execution_count": 6,
     "metadata": {},
     "output_type": "execute_result"
    },
    {
     "data": {
      "image/png": "[encoded data removed]",
      "text/plain": [
       "<Figure size 432x288 with 1 Axes>"
      ]
     },
     "metadata": {
      "needs_background": "light"
     },
     "output_type": "display_data"
    }
   ],
   "source": [
    "plt.scatter(df_manga.Scored_by, df_manga.Favorites, c=df_manga.c, alpha = 0.6, s=10)"
   ]
  },
  {
   "cell_type": "code",
   "execution_count": 7,
   "id": "dfeffd93-dbfd-4f96-ae9e-ffbbeb492e7b",
   "metadata": {},
   "outputs": [
    {
     "data": {
      "application/vnd.jupyter.widget-view+json": {
       "model_id": "30b8d0c961664c438b59a5e9844fb985",
       "version_major": 2,
       "version_minor": 0
      },
      "text/plain": [
       "Canvas(toolbar=Toolbar(toolitems=[('Home', 'Reset original view', 'home', 'home'), ('Back', 'Back to previous …"
      ]
     },
     "metadata": {},
     "output_type": "display_data"
    }
   ],
   "source": [
    "from mpl_toolkits.mplot3d import Axes3D\n",
    "%matplotlib widget\n",
    "fig = plt.figure(figsize=(26,6))\n",
    "ax = fig.add_subplot(131, projection='3d')\n",
    "ax.scatter(df_manga.Scored_by, df_manga.Favorites, df_manga.Score, c=df_manga.c, s=15)\n",
    "ax.set_xlabel('Scored_by')\n",
    "ax.set_ylabel('Favorites')\n",
    "ax.set_zlabel('Score')\n",
    "plt.show()"
   ]
  },
  {
   "cell_type": "code",
   "execution_count": null,
   "id": "9436522e-328d-43a7-aaae-027d7fc08eed",
   "metadata": {},
   "outputs": [],
   "source": []
  },
  {
   "cell_type": "code",
   "execution_count": 8,
   "id": "8162e226-f526-4a1b-a783-ef653639bb49",
   "metadata": {},
   "outputs": [
    {
     "ename": "NameError",
     "evalue": "name 'Y' is not defined",
     "output_type": "error",
     "traceback": [
      "\u001b[1;31m---------------------------------------------------------------------------\u001b[0m",
      "\u001b[1;31mNameError\u001b[0m                                 Traceback (most recent call last)",
      "\u001b[1;32m~\\AppData\\Local\\Temp/ipykernel_2340/1536289014.py\u001b[0m in \u001b[0;36m<module>\u001b[1;34m\u001b[0m\n\u001b[0;32m      1\u001b[0m \u001b[0mcluster_map\u001b[0m \u001b[1;33m=\u001b[0m \u001b[0mpd\u001b[0m\u001b[1;33m.\u001b[0m\u001b[0mDataFrame\u001b[0m\u001b[1;33m(\u001b[0m\u001b[1;33m)\u001b[0m\u001b[1;33m\u001b[0m\u001b[1;33m\u001b[0m\u001b[0m\n\u001b[0;32m      2\u001b[0m \u001b[0mcluster_map\u001b[0m\u001b[1;33m[\u001b[0m\u001b[1;34m'data_index'\u001b[0m\u001b[1;33m]\u001b[0m \u001b[1;33m=\u001b[0m \u001b[0mdf_manga\u001b[0m\u001b[1;33m.\u001b[0m\u001b[0mid\u001b[0m\u001b[1;33m\u001b[0m\u001b[1;33m\u001b[0m\u001b[0m\n\u001b[1;32m----> 3\u001b[1;33m \u001b[0mcluster_map\u001b[0m\u001b[1;33m[\u001b[0m\u001b[1;34m'cluster'\u001b[0m\u001b[1;33m]\u001b[0m \u001b[1;33m=\u001b[0m \u001b[0mY\u001b[0m\u001b[1;33m.\u001b[0m\u001b[0mlabels_\u001b[0m\u001b[1;33m\u001b[0m\u001b[1;33m\u001b[0m\u001b[0m\n\u001b[0m",
      "\u001b[1;31mNameError\u001b[0m: name 'Y' is not defined"
     ]
    }
   ],
   "source": [
    "cluster_map = pd.DataFrame()\n",
    "cluster_map['data_index'] = df_manga.id\n",
    "cluster_map['cluster'] = Y.labels_\n"
   ]
  },
  {
   "cell_type": "code",
   "execution_count": null,
   "id": "fbe54241-9b70-4e1e-9515-be2f2fb9fb2a",
   "metadata": {},
   "outputs": [],
   "source": []
  },
  {
   "cell_type": "code",
   "execution_count": null,
   "id": "bb0ec929-ae63-4a8c-bb9d-c1bb377a727a",
   "metadata": {},
   "outputs": [],
   "source": []
  },
  {
   "cell_type": "code",
   "execution_count": null,
   "id": "0ca30363-759d-406b-a2cc-d337e6887b6b",
   "metadata": {},
   "outputs": [],
   "source": []
  },
  {
   "cell_type": "code",
   "execution_count": null,
   "id": "a99010bf-2a91-4a2b-8562-440a3c3898e4",
   "metadata": {},
   "outputs": [],
   "source": []
  }
 ],
 "metadata": {
  "kernelspec": {
   "display_name": "Python 3 (ipykernel)",
   "language": "python",
   "name": "python3"
  },
  "language_info": {
   "codemirror_mode": {
    "name": "ipython",
    "version": 3
   },
   "file_extension": ".py",
   "mimetype": "text/x-python",
   "name": "python",
   "nbconvert_exporter": "python",
   "pygments_lexer": "ipython3",
   "version": "3.9.6"
  }
 },
 "nbformat": 4,
 "nbformat_minor": 5
}
