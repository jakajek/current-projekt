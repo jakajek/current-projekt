{
 "cells": [
  {
   "cell_type": "markdown",
   "id": "600c70a5-1162-4389-b905-c89f6825df7c",
   "metadata": {},
   "source": [
    "# *K-Means* Clustering For 1000 Manga List from myanimelist.net"
   ]
  },
  {
   "cell_type": "markdown",
   "id": "e8dcdbd1-78b3-4a3c-a934-e85ce74d5c80",
   "metadata": {},
   "source": [
    "## Import library\n",
    "In this section we will import library tools like `pandas`, `matplotlib`, and `sklearn`. From `sklearn` we will use `cluster` for `KMeans`, `preprocessing` for `StandardScaler` and `metrics` for `silhouette_score`"
   ]
  },
  {
   "cell_type": "code",
   "execution_count": 1,
   "id": "64dae640-f724-4277-844e-dc97eebff176",
   "metadata": {},
   "outputs": [],
   "source": [
    "import pandas as pd\n",
    "import matplotlib.pyplot as plt\n",
    "from sklearn.cluster import KMeans\n",
    "from sklearn.preprocessing import StandardScaler\n",
    "from sklearn.metrics import silhouette_score"
   ]
  },
  {
   "cell_type": "markdown",
   "id": "bf23e480-8697-4c1e-8911-fe2065ed9847",
   "metadata": {},
   "source": [
    "## Explore Data\n",
    "Next we use data from https://www.kaggle.com/astronautelvis/top-1000-ranked-mangas-by-myanimelist"
   ]
  },
  {
   "cell_type": "markdown",
   "id": "84813886-11aa-499a-b8c3-d5df974f074a",
   "metadata": {},
   "source": [
    "**Why I choose this data for *K-Means* Clustering?** as a manga's reader when i visit https://myanimelist.net/topmanga.php it's hard for me to choose what is the next manga to read."
   ]
  },
  {
   "cell_type": "markdown",
   "id": "1fb13948-1535-4a57-b4d8-c53c0b4f2002",
   "metadata": {},
   "source": [
    "**But you can start from 1st rank and you can choose by score is'n't?** to be honest it's not simple like that my brother, if we look closely the score and the ranks it seems sus because the numbers of members. Manga's like *JoJo no Kimyou na Bouken Part 7: Steel Ball Run* is 2nd at the rank and have 9.23 score but it only have 160,780 members."
   ]
  },
  {
   "cell_type": "markdown",
   "id": "c1eea048-a7ab-4cf0-9cd4-1bcbdc4a2353",
   "metadata": {},
   "source": [
    "**Why choose *K-Means* clustering methods?** *K-Means* is one simple clustering methods to separate data by specific features. In this data, we can choose `Scored_by`, `Favorites` and `Score` as features to use"
   ]
  },
  {
   "cell_type": "code",
   "execution_count": null,
   "id": "7cc3ed54-d523-4573-abcb-19c6f9c10143",
   "metadata": {},
   "outputs": [],
   "source": []
  },
  {
   "cell_type": "code",
   "execution_count": 4,
   "id": "fa8d8821-bf9a-4715-8d83-dc2540ef278e",
   "metadata": {},
   "outputs": [
    {
     "data": {
      "text/html": [
       "<div>\n",
       "<style scoped>\n",
       "    .dataframe tbody tr th:only-of-type {\n",
       "        vertical-align: middle;\n",
       "    }\n",
       "\n",
       "    .dataframe tbody tr th {\n",
       "        vertical-align: top;\n",
       "    }\n",
       "\n",
       "    .dataframe thead th {\n",
       "        text-align: right;\n",
       "    }\n",
       "</style>\n",
       "<table border=\"1\" class=\"dataframe\">\n",
       "  <thead>\n",
       "    <tr style=\"text-align: right;\">\n",
       "      <th></th>\n",
       "      <th>Title</th>\n",
       "      <th>Title_Synonym</th>\n",
       "      <th>Title_Japanese</th>\n",
       "      <th>Status</th>\n",
       "      <th>Volumns</th>\n",
       "      <th>Chapters</th>\n",
       "      <th>Publishing</th>\n",
       "      <th>Rank</th>\n",
       "      <th>Score</th>\n",
       "      <th>Scored_by</th>\n",
       "      <th>Popularity</th>\n",
       "      <th>Memebers</th>\n",
       "      <th>Favorites</th>\n",
       "      <th>Synopsis</th>\n",
       "      <th>Publish_period</th>\n",
       "      <th>Genre</th>\n",
       "    </tr>\n",
       "  </thead>\n",
       "  <tbody>\n",
       "    <tr>\n",
       "      <th>0</th>\n",
       "      <td>Berserk</td>\n",
       "      <td>Berserk</td>\n",
       "      <td>ベルセルク</td>\n",
       "      <td>Publishing</td>\n",
       "      <td>unkown</td>\n",
       "      <td>unkown</td>\n",
       "      <td>True</td>\n",
       "      <td>1</td>\n",
       "      <td>9.39</td>\n",
       "      <td>201756</td>\n",
       "      <td>2</td>\n",
       "      <td>427894</td>\n",
       "      <td>80308</td>\n",
       "      <td>Guts, a former mercenary now known as the \"Bla...</td>\n",
       "      <td>Aug  25, 1989 to present</td>\n",
       "      <td>'Action', 'Adventure', 'Demons', 'Drama', 'Fan...</td>\n",
       "    </tr>\n",
       "    <tr>\n",
       "      <th>1</th>\n",
       "      <td>JoJo no Kimyou na Bouken Part 7: Steel Ball Run</td>\n",
       "      <td>unkown</td>\n",
       "      <td>ジョジョの奇妙な冒険 Part7 STEEL BALL RUN</td>\n",
       "      <td>Finished</td>\n",
       "      <td>24</td>\n",
       "      <td>96</td>\n",
       "      <td>False</td>\n",
       "      <td>2</td>\n",
       "      <td>9.23</td>\n",
       "      <td>94427</td>\n",
       "      <td>29</td>\n",
       "      <td>160782</td>\n",
       "      <td>27459</td>\n",
       "      <td>In the American Old West, the world's greatest...</td>\n",
       "      <td>Jan  19, 2004 to Apr  19, 2011</td>\n",
       "      <td>'Action', 'Adventure', 'Mystery', 'Historical'...</td>\n",
       "    </tr>\n",
       "    <tr>\n",
       "      <th>2</th>\n",
       "      <td>One Piece</td>\n",
       "      <td>One Piece</td>\n",
       "      <td>ONE PIECE</td>\n",
       "      <td>Publishing</td>\n",
       "      <td>unkown</td>\n",
       "      <td>unkown</td>\n",
       "      <td>True</td>\n",
       "      <td>3</td>\n",
       "      <td>9.15</td>\n",
       "      <td>249936</td>\n",
       "      <td>3</td>\n",
       "      <td>410522</td>\n",
       "      <td>82310</td>\n",
       "      <td>Gol D. Roger, a man referred to as the \"Pirate...</td>\n",
       "      <td>Jul  22, 1997 to present</td>\n",
       "      <td>'Action', 'Adventure', 'Comedy', 'Fantasy', 'S...</td>\n",
       "    </tr>\n",
       "    <tr>\n",
       "      <th>3</th>\n",
       "      <td>Vagabond</td>\n",
       "      <td>Vagabond</td>\n",
       "      <td>バガボンド</td>\n",
       "      <td>On Hiatus</td>\n",
       "      <td>37</td>\n",
       "      <td>327</td>\n",
       "      <td>False</td>\n",
       "      <td>4</td>\n",
       "      <td>9.13</td>\n",
       "      <td>72613</td>\n",
       "      <td>19</td>\n",
       "      <td>211345</td>\n",
       "      <td>21596</td>\n",
       "      <td>In 16th century Japan, Shinmen Takezou is a wi...</td>\n",
       "      <td>Sep  3, 1998 to May  21, 2015</td>\n",
       "      <td>'Action', 'Adventure', 'Drama', 'Historical', ...</td>\n",
       "    </tr>\n",
       "    <tr>\n",
       "      <th>4</th>\n",
       "      <td>Monster</td>\n",
       "      <td>Monster</td>\n",
       "      <td>MONSTER</td>\n",
       "      <td>Finished</td>\n",
       "      <td>18</td>\n",
       "      <td>162</td>\n",
       "      <td>False</td>\n",
       "      <td>5</td>\n",
       "      <td>9.10</td>\n",
       "      <td>57801</td>\n",
       "      <td>33</td>\n",
       "      <td>148764</td>\n",
       "      <td>13049</td>\n",
       "      <td>Kenzou Tenma, a renowned Japanese neurosurgeon...</td>\n",
       "      <td>Dec  5, 1994 to Dec  20, 2001</td>\n",
       "      <td>'Mystery', 'Drama', 'Psychological', 'Seinen'</td>\n",
       "    </tr>\n",
       "  </tbody>\n",
       "</table>\n",
       "</div>"
      ],
      "text/plain": [
       "                                             Title Title_Synonym  \\\n",
       "0                                          Berserk       Berserk   \n",
       "1  JoJo no Kimyou na Bouken Part 7: Steel Ball Run        unkown   \n",
       "2                                        One Piece     One Piece   \n",
       "3                                         Vagabond      Vagabond   \n",
       "4                                          Monster       Monster   \n",
       "\n",
       "                    Title_Japanese      Status Volumns Chapters  Publishing  \\\n",
       "0                            ベルセルク  Publishing  unkown   unkown        True   \n",
       "1  ジョジョの奇妙な冒険 Part7 STEEL BALL RUN    Finished      24       96       False   \n",
       "2                        ONE PIECE  Publishing  unkown   unkown        True   \n",
       "3                            バガボンド   On Hiatus      37      327       False   \n",
       "4                          MONSTER    Finished      18      162       False   \n",
       "\n",
       "   Rank  Score  Scored_by  Popularity  Memebers  Favorites  \\\n",
       "0     1   9.39     201756           2    427894      80308   \n",
       "1     2   9.23      94427          29    160782      27459   \n",
       "2     3   9.15     249936           3    410522      82310   \n",
       "3     4   9.13      72613          19    211345      21596   \n",
       "4     5   9.10      57801          33    148764      13049   \n",
       "\n",
       "                                            Synopsis  \\\n",
       "0  Guts, a former mercenary now known as the \"Bla...   \n",
       "1  In the American Old West, the world's greatest...   \n",
       "2  Gol D. Roger, a man referred to as the \"Pirate...   \n",
       "3  In 16th century Japan, Shinmen Takezou is a wi...   \n",
       "4  Kenzou Tenma, a renowned Japanese neurosurgeon...   \n",
       "\n",
       "                   Publish_period  \\\n",
       "0        Aug  25, 1989 to present   \n",
       "1  Jan  19, 2004 to Apr  19, 2011   \n",
       "2        Jul  22, 1997 to present   \n",
       "3   Sep  3, 1998 to May  21, 2015   \n",
       "4   Dec  5, 1994 to Dec  20, 2001   \n",
       "\n",
       "                                               Genre  \n",
       "0  'Action', 'Adventure', 'Demons', 'Drama', 'Fan...  \n",
       "1  'Action', 'Adventure', 'Mystery', 'Historical'...  \n",
       "2  'Action', 'Adventure', 'Comedy', 'Fantasy', 'S...  \n",
       "3  'Action', 'Adventure', 'Drama', 'Historical', ...  \n",
       "4      'Mystery', 'Drama', 'Psychological', 'Seinen'  "
      ]
     },
     "execution_count": 4,
     "metadata": {},
     "output_type": "execute_result"
    }
   ],
   "source": [
    "data_manga = pd.read_csv(\"https://raw.githubusercontent.com/jakajek/current-projekt/main/data/top_1000_manga.csv\", index_col = 0)\n",
    "data_manga.head()"
   ]
  },
  {
   "cell_type": "markdown",
   "id": "e211c50c-fdd4-44f3-8ea5-827ca34ddce9",
   "metadata": {},
   "source": []
  },
  {
   "cell_type": "code",
   "execution_count": null,
   "id": "445df91b-2eb5-44b2-acd0-058a3e06d190",
   "metadata": {},
   "outputs": [],
   "source": [
    "use_col = data_manga['Status'].isin(['Publishing','Finished'])\n",
    "del_col = ['Title_Synonym', 'Title_Japanese', 'Status','Chapters', 'Volumns', 'Publishing', 'Memebers', 'Synopsis', 'Publish_period', 'Genre']\n",
    "df_manga = data_manga[use_col].drop(columns = del_col)\n",
    "df_manga.insert(0, 'id', range(1, 1 + len(df_manga)))\n",
    "df_manga.head()"
   ]
  },
  {
   "cell_type": "markdown",
   "id": "908eed49-ba44-4c30-bca3-38ddf4511a9c",
   "metadata": {},
   "source": []
  },
  {
   "cell_type": "code",
   "execution_count": null,
   "id": "41d5e121-a1a0-40dd-a5e1-82765be6df0a",
   "metadata": {},
   "outputs": [],
   "source": [
    "len(df_manga)"
   ]
  },
  {
   "cell_type": "markdown",
   "id": "61de15e6-1bae-43ce-941f-f83c843f2e57",
   "metadata": {},
   "source": []
  },
  {
   "cell_type": "code",
   "execution_count": null,
   "id": "860c5d65-2935-4d46-8021-0ecd34bcc4d1",
   "metadata": {},
   "outputs": [],
   "source": [
    "df_manga['is_duplicated'] = df_manga.duplicated(subset=['Title'])\n",
    "df_manga['is_duplicated'].sum()"
   ]
  },
  {
   "cell_type": "markdown",
   "id": "c0acbbea-fe70-4f04-9843-380b275ddbcf",
   "metadata": {},
   "source": []
  },
  {
   "cell_type": "code",
   "execution_count": null,
   "id": "1ee68243-de04-4396-8b71-7680e8a5e4ec",
   "metadata": {},
   "outputs": [],
   "source": [
    "df_manga = df_manga.drop_duplicates(subset=['Title'])\n",
    "len(df_manga)"
   ]
  },
  {
   "cell_type": "markdown",
   "id": "b92b35b4-7c17-446e-9ae3-50244be4da5e",
   "metadata": {},
   "source": []
  },
  {
   "cell_type": "code",
   "execution_count": null,
   "id": "833d83e1-af0a-47d5-aec1-c77cd03e92b8",
   "metadata": {},
   "outputs": [],
   "source": [
    "df_manga.head()"
   ]
  },
  {
   "cell_type": "markdown",
   "id": "45b90650-30e0-4440-8186-7d527f16a741",
   "metadata": {},
   "source": []
  },
  {
   "cell_type": "code",
   "execution_count": null,
   "id": "7d52c8f4-6d5b-411e-a20e-849ad8167e8f",
   "metadata": {},
   "outputs": [],
   "source": [
    "X = (df_manga[['Scored_by', 'Favorites', 'Score']])\n",
    "wcss = []\n",
    "for i in range(1, 11):\n",
    "    kmeans = KMeans(n_clusters=i, init='k-means++', max_iter=300, n_init=10, random_state=0)\n",
    "    kmeans.fit(X)\n",
    "    wcss.append(kmeans.inertia_)\n",
    "plt.plot(range(1, 11), wcss)\n",
    "plt.title('Elbow Method')\n",
    "plt.xlabel('Number of clusters')\n",
    "plt.ylabel('WCSS')\n",
    "plt.show()"
   ]
  },
  {
   "cell_type": "code",
   "execution_count": null,
   "id": "216c4e05-2d44-4881-8c72-73ad7f8eede9",
   "metadata": {},
   "outputs": [],
   "source": [
    "kmeans = KMeans(n_clusters=3, random_state=0) # k means\n",
    "var = df_manga[['Scored_by', 'Favorites']]\n",
    "df_manga['cluster'] = kmeans.fit_predict(var)# centroids\n",
    "centroids = kmeans.cluster_centers_\n",
    "cen_x = [i[0] for i in centroids] \n",
    "cen_y = [i[1] for i in centroids]\n",
    "# add to df\n",
    "df_manga['cen_x'] = df_manga.cluster.map({0:cen_x[0], 1:cen_x[1], 2:cen_x[2]})\n",
    "df_manga['cen_y'] = df_manga.cluster.map({0:cen_y[0], 1:cen_y[1], 2:cen_y[2]})\n",
    "colors = ['#DF2020', '#81DF20', '#2095DF']\n",
    "df_manga['c'] = df_manga.cluster.map({0:colors[0], 1:colors[1], 2:colors[2]})"
   ]
  },
  {
   "cell_type": "markdown",
   "id": "7f0e6676-7708-42ce-9743-00c8f74fdab5",
   "metadata": {},
   "source": []
  },
  {
   "cell_type": "markdown",
   "id": "eb9779fa-69e5-46d8-9fb0-5fd29f271af7",
   "metadata": {},
   "source": []
  },
  {
   "cell_type": "code",
   "execution_count": null,
   "id": "a89b9fbf-47a4-4d67-8e54-42d72dd2b43e",
   "metadata": {},
   "outputs": [],
   "source": [
    "plt.scatter(df_manga.Scored_by, df_manga.Favorites, c=df_manga.c, alpha = 0.6, s=10)"
   ]
  },
  {
   "cell_type": "markdown",
   "id": "fedcf4f3-698d-48e0-ae65-8df4c67a6a58",
   "metadata": {},
   "source": []
  },
  {
   "cell_type": "code",
   "execution_count": null,
   "id": "7342beb3-5c58-4c02-8f9d-cfe689e1590c",
   "metadata": {},
   "outputs": [],
   "source": [
    "z = StandardScaler()\n",
    "nn = z.fit_transform(var)\n",
    "tt = kmeans.predict(var)\n",
    "silhouette_score(nn, tt)"
   ]
  },
  {
   "cell_type": "code",
   "execution_count": null,
   "id": "eba5bd39-ca9c-49f8-b2f2-c31ad0e6db65",
   "metadata": {},
   "outputs": [],
   "source": []
  },
  {
   "cell_type": "code",
   "execution_count": null,
   "id": "dfeffd93-dbfd-4f96-ae9e-ffbbeb492e7b",
   "metadata": {},
   "outputs": [],
   "source": [
    "from mpl_toolkits.mplot3d import Axes3D\n",
    "%matplotlib widget\n",
    "fig = plt.figure(figsize=(26,6))\n",
    "ax = fig.add_subplot(131, projection='3d')\n",
    "ax.scatter(df_manga.Scored_by, df_manga.Favorites, df_manga.Score, c=df_manga.c, s=15)\n",
    "ax.set_xlabel('Scored_by')\n",
    "ax.set_ylabel('Favorites')\n",
    "ax.set_zlabel('Score')\n",
    "plt.show()"
   ]
  },
  {
   "cell_type": "markdown",
   "id": "fe375a4b-a524-40bf-87c2-adf01e0733ba",
   "metadata": {},
   "source": []
  },
  {
   "cell_type": "code",
   "execution_count": null,
   "id": "9436522e-328d-43a7-aaae-027d7fc08eed",
   "metadata": {},
   "outputs": [],
   "source": [
    "to_frame = df_manga['cluster'].to_frame()\n",
    "df_clust = pd.concat([df_manga.Title,df_manga.Rank,to_frame], axis=1)\n",
    "print(df_clust)"
   ]
  },
  {
   "cell_type": "markdown",
   "id": "220b824b-2490-4b81-966a-fad57f25e44f",
   "metadata": {},
   "source": []
  },
  {
   "cell_type": "code",
   "execution_count": null,
   "id": "a99010bf-2a91-4a2b-8562-440a3c3898e4",
   "metadata": {},
   "outputs": [],
   "source": [
    "group_clust = df_clust.groupby(\"cluster\")[\"Title\"].count()\n",
    "print(group_clust)"
   ]
  },
  {
   "cell_type": "markdown",
   "id": "77ccb661-0a49-4fc9-8f63-27564af262a3",
   "metadata": {},
   "source": []
  },
  {
   "cell_type": "code",
   "execution_count": null,
   "id": "2c6bf2c1-82bf-4aeb-b337-a411dcf60db4",
   "metadata": {},
   "outputs": [],
   "source": [
    "df_clust[df_clust['cluster'] == 1]"
   ]
  },
  {
   "cell_type": "markdown",
   "id": "55fdfc1d-5e43-4ad6-8065-1843507e2564",
   "metadata": {},
   "source": []
  }
 ],
 "metadata": {
  "kernelspec": {
   "display_name": "Python 3 (ipykernel)",
   "language": "python",
   "name": "python3"
  },
  "language_info": {
   "codemirror_mode": {
    "name": "ipython",
    "version": 3
   },
   "file_extension": ".py",
   "mimetype": "text/x-python",
   "name": "python",
   "nbconvert_exporter": "python",
   "pygments_lexer": "ipython3",
   "version": "3.9.6"
  }
 },
 "nbformat": 4,
 "nbformat_minor": 5
}
